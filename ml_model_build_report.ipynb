{
 "cells": [
  {
   "cell_type": "code",
   "execution_count": 180,
   "metadata": {},
   "outputs": [],
   "source": [
    "import dash\n",
    "from dash import html, dcc\n",
    "import dash_bootstrap_components as dbc\n",
    "import ollama\n",
    "import plotly.express as px\n",
    "import pandas as pd\n",
    "import missingno as msno\n",
    "import matplotlib.pyplot as plt\n",
    "import plotly.figure_factory as ff\n",
    "import io\n",
    "import base64\n",
    "import json\n",
    "import numpy as np\n",
    "import os\n",
    "import plotly.graph_objects as go\n"
   ]
  },
  {
   "cell_type": "code",
   "execution_count": 169,
   "metadata": {},
   "outputs": [],
   "source": [
    "assets_folder = \"metadata\"\n",
    "\n",
    "json_file_path_user_ip = os.path.join(assets_folder, \"user_inputs.json\")\n",
    "with open(json_file_path_user_ip, 'r') as f:\n",
    "    user_inputs = json.load(f)\n",
    "\n",
    "json_file_path_user_dtype = os.path.join(assets_folder, \"user_data_types.json\")\n",
    "with open(json_file_path_user_dtype, 'r') as f:\n",
    "    user_data_types = json.load(f)\n",
    "\n",
    "json_file_path_prepocess_report_ip = os.path.join(assets_folder, \"preprocessing_report_inputs.json\")\n",
    "with open(json_file_path_prepocess_report_ip,'r') as f:\n",
    "    preprocessing_report_inputs = json.load(f)\n",
    "\n",
    "json_file_path_prepocess_ip = os.path.join(assets_folder, \"preprocessing_inputs.json\")    \n",
    "with open(json_file_path_prepocess_ip,'r') as f:\n",
    "    preprocessing_inputs = json.load(f)"
   ]
  },
  {
   "cell_type": "code",
   "execution_count": 170,
   "metadata": {},
   "outputs": [],
   "source": [
    "assets_folder = \"data\"\n",
    "csv_file_path_raw = os.path.join(assets_folder, \"df_raw.csv\")\n",
    "df_dtype_converted = pd.read_csv(csv_file_path_raw)\n",
    "\n",
    "data = df_dtype_converted.sample(frac=0.95,random_state=123) # 95% data for Model training and testing\n",
    "evaluation_data = df_dtype_converted.drop(data.index) # 5% data for Final Evaluation\n"
   ]
  },
  {
   "cell_type": "code",
   "execution_count": 171,
   "metadata": {},
   "outputs": [],
   "source": [
    "assets_folder = \"metadata\"\n",
    "json_file_path_ml_report = os.path.join(assets_folder, \"ml_model_report_inputs.json\")\n",
    "with open(json_file_path_ml_report,'r') as f:\n",
    "    ml_model_report_inputs= json.load(f)"
   ]
  },
  {
   "cell_type": "code",
   "execution_count": 172,
   "metadata": {},
   "outputs": [
    {
     "data": {
      "text/plain": [
       "{'data_split': {'train_data_size': 889,\n",
       "  'test_data_size': 381,\n",
       "  'evaluation_data_size': 67},\n",
       " 'total_preprocess_param_comb': 120,\n",
       " 'intial_models_comparison': {'model': ['Gradient Boosting Regressor',\n",
       "   'Random Forest Regressor',\n",
       "   'AdaBoost Regressor',\n",
       "   'Lasso Regression',\n",
       "   'Ridge Regression',\n",
       "   'Linear Regression',\n",
       "   'Decision Tree Regressor',\n",
       "   'K Neighbors Regressor',\n",
       "   'Support Vector Regression'],\n",
       "  'rmse': [4741.4442,\n",
       "   4944.5859,\n",
       "   5335.6514,\n",
       "   6102.0297,\n",
       "   6101.5581,\n",
       "   6102.0969,\n",
       "   6781.1992,\n",
       "   11765.2596,\n",
       "   12888.0853],\n",
       "  'r2': [0.844,\n",
       "   0.8308,\n",
       "   0.8058,\n",
       "   0.7447,\n",
       "   0.7447,\n",
       "   0.7446,\n",
       "   0.687,\n",
       "   0.0633,\n",
       "   -0.1229]},\n",
       " 'model_comparison': {'total_fits': 60,\n",
       "  'top_model': 'Gradient Boosting Regressor',\n",
       "  'top_param': {'Transformation': True,\n",
       "   'Transform_Method': 'yeo-johnson',\n",
       "   'Normalization': True,\n",
       "   'Normalize_Method': 'robust',\n",
       "   'Outlier': False,\n",
       "   'Outlier_Method': None,\n",
       "   'Multicollinearity': False,\n",
       "   'Target Transformation': False,\n",
       "   'Feature Selection': False},\n",
       "  'top_r2': 0.8399,\n",
       "  'top_rmse': 4810.752},\n",
       " 'best_model_final_results': {'preprocess_results': {'R2': 0.8445,\n",
       "   'RMSE': 4732.9684},\n",
       "  'test_result': {'R2': 0.8464, 'RMSE': 4624.9717},\n",
       "  'hyperpar_test_result': {'R2': 0.7918, 'RMSE': 5506.2722},\n",
       "  'eval_result': {'R2': 0.9067, 'RMSE': 3945.0074}},\n",
       " 'ensemble_results': {'Model': ['Gradient Boosting Regressor',\n",
       "   'Gradient Boosting Regressor(Bagging)',\n",
       "   'Gradient Boosting Regressor(Boosting)',\n",
       "   'Voting Regressor',\n",
       "   'Stacking Regressor'],\n",
       "  'R2': [0.9067, 0.903, 0.903, 0.8933, 0.9029],\n",
       "  'RMSE': [3945.0074, 4022.1087, 4022.1087, 4217.5356, 4023.606]},\n",
       " 'final_best_model': 'Gradient Boosting Regressor'}"
      ]
     },
     "execution_count": 172,
     "metadata": {},
     "output_type": "execute_result"
    }
   ],
   "source": [
    "ml_model_report_inputs"
   ]
  },
  {
   "cell_type": "code",
   "execution_count": 173,
   "metadata": {},
   "outputs": [],
   "source": [
    "# List all SHAP images in the assets folder\n",
    "shap_images = [img for img in os.listdir(\"assets/\") if img.startswith(\"shap_partial_\")]\n",
    "\n",
    "# Create options for dropdown (Remove \"shap_partial_\" from names)\n",
    "dropdown_options = [{\"label\": img.replace(\"shap_partial_\", \"\").replace(\".png\", \"\"), \"value\": img} for img in shap_images]"
   ]
  },
  {
   "cell_type": "code",
   "execution_count": 174,
   "metadata": {},
   "outputs": [],
   "source": [
    "shap_images_loc = [img for img in os.listdir(\"assets/\") if img.startswith(\"shap_local_explain_sample\")]\n",
    "\n",
    "# ✅ Create dropdown options\n",
    "dropdown_options_loc = [{\"label\": f\"Instance {i+1}\", \"value\": img} for i, img in enumerate(shap_images_loc)]"
   ]
  },
  {
   "cell_type": "code",
   "execution_count": 175,
   "metadata": {},
   "outputs": [],
   "source": [
    "def generate_explanation(stage):\n",
    "    prompts = { \n",
    "        \"data_split\" : f\"Explain the data split summary based on {ml_model_report_inputs['data_split']}. Minimum 100 words maximum 150 word\",\n",
    "        \"initial_modle_compare\" : f\"Summary on compare 10 models on {int(user_inputs['K-Fold'])} number of Kfold cross validation. Top 3 Models {ml_model_report_inputs['intial_models_comparison']['model'][:3]} are choosen and their R2 values respectively are {ml_model_report_inputs['intial_models_comparison']['r2'][0:3]}  provide justification based on this\",\n",
    "        \"top3_model_para_compare\" : f\"Provide summary : Top 3 Models {ml_model_report_inputs['intial_models_comparison']['model'][:3]} fitted with total {ml_model_report_inputs['model_comparison']['total_fits']} models based on all the combination of preprocessing parameters - Normalizaton,Transformation,outliers,Feature seletion.The top model found {ml_model_report_inputs['model_comparison']['top_model']} and the preprocessing parameters are {ml_model_report_inputs['model_comparison']['top_param']}\",\n",
    "        \"final_model_build\" : f\"Provide summary of the Final Model built based on {ml_model_report_inputs['best_model_final_results']}\",\n",
    "        \"ensemble_model\" : f\"Best Model {ml_model_report_inputs['final_best_model']}.Provide Summary of Model comparison based on {ml_model_report_inputs['ensemble_results']}\",\n",
    "        \"residual_plot\" : f\"Explain how to read Residual plot in Mahine learning. Maximum 200 Words\",\n",
    "        \"error_plot\" : f\"Explain how to read Error plot in Mahine learning. Maximum 200 Words\",\n",
    "        \"shap_summary_plot\" : f\"\"\"Explain how to read SHAP Summary Plot in explainable AI.\n",
    "                                    Features Are Sorted by ImportanceTop to bottom: \n",
    "                                    The most important features are at the top.\n",
    "                                    SHAP Values Indicate Impact:\n",
    "                                    The X-axis represents SHAP values (impact on model output).\n",
    "                                    Negative SHAP values (left) → Decrease the prediction.\n",
    "                                    Positive SHAP values (right) → Increase the prediction.\n",
    "                                    Colors Represent Feature Values:\n",
    "                                    Color Gradient (from Blue to Red):\n",
    "                                    Blue - Lower feature values\n",
    "                                    Red - Higher feature valuesMaximum 200 Words\"\"\",\n",
    "        \"shap_summary_feature\" : f\"Explain how to read Feature Importance Plot.Maximum 200 Words\",\n",
    "        \"partial_dependence\" : f\"Exlpain about partial dependence plot in Global explainability.Maximum 150 Words\",\n",
    "        \"local_explain\" : \"\"\"Your task is to explain how to interpret a SHAP waterfall plot in a structured and concise manner.\n",
    "\n",
    "                            ### **📊 Understanding a SHAP Waterfall Plot**\n",
    "\n",
    "                            A SHAP waterfall plot visualizes how **each feature** in a machine learning model contributes to a specific prediction by **adding or subtracting value** from a base (expected) prediction.\n",
    "\n",
    "                            #### **1️⃣ Key Components**\n",
    "                            - **Base Value (E[f(X)])**: This is the model’s average prediction across all data points.\n",
    "                            - **Final Prediction (f(x))**: The final predicted value for this specific instance.\n",
    "                            - **Feature Contributions**:\n",
    "                            - **Positive Contributions** (🔴 Red bars): Features that **increase** the prediction.\n",
    "                            - **Negative Contributions** (🔵 Blue bars): Features that **decrease** the prediction.\n",
    "                            - **Feature Importance Order**: The most impactful features are placed at the **top**, while less significant ones are at the **bottom**.\n",
    "\n",
    "                            #### **2️⃣ How to Read the Plot**\n",
    "                            1. **Start from the base value** (leftmost value at the bottom).\n",
    "                            2. **Observe how each feature modifies the base value** step by step.\n",
    "                            - Features **pushing the prediction higher** are in **red**.\n",
    "                            - Features **pulling the prediction lower** are in **blue**.\n",
    "                            3. **The final prediction (f(x))** is obtained by summing the base value and the feature effects.\n",
    "\n",
    "                            #### **3️⃣ Interpretation**\n",
    "                            - **Which features have the most impact?**  \n",
    "                            - The largest bars (longest red/blue bars) indicate the strongest contributors.\n",
    "                            - **Is the prediction higher or lower than expected?**  \n",
    "                            - If most contributions are **positive (red)**, the prediction is **above average**.  \n",
    "                            - If mostly **negative (blue)**, the prediction is **below average**.\n",
    "                            - **How do categorical and numerical features affect the outcome?**  \n",
    "                            - Binary features (e.g., **smoker = 1**) often have a sharp impact.\n",
    "                            - Continuous features (e.g., **age, BMI**) gradually modify the prediction.\"\"\"\n",
    "    }\n",
    "    \n",
    "    response = ollama.chat(model=\"llama2:chat\", messages=[{\"role\": \"user\", \"content\": prompts[stage]}])\n",
    "    \n",
    "    return response['message']['content']\n",
    "\n",
    "explanations = {\n",
    "           \"data_split_ex\" : generate_explanation(\"data_split\"),\n",
    "           \"initial_modle_compare\" : generate_explanation(\"initial_modle_compare\"),\n",
    "           \"top3_model_para_compare\" : generate_explanation(\"top3_model_para_compare\"),\n",
    "           \"final_model_build\" : generate_explanation(\"final_model_build\"),\n",
    "           \"ensemble_model\" : generate_explanation(\"ensemble_model\"),\n",
    "           \"residual_plot\" : generate_explanation(\"residual_plot\"),\n",
    "           \"error_plot\" : generate_explanation(\"error_plot\"),\n",
    "           \"shap_summary_plot\" : generate_explanation(\"shap_summary_plot\"),\n",
    "           \"shap_summary_feature\" : generate_explanation(\"shap_summary_feature\"),\n",
    "           \"partial_dependence\" : generate_explanation(\"partial_dependence\"),\n",
    "           \"local_explain\" : generate_explanation(\"local_explain\")\n",
    "}"
   ]
  },
  {
   "cell_type": "code",
   "execution_count": 176,
   "metadata": {},
   "outputs": [
    {
     "name": "stdout",
     "output_type": "stream",
     "text": [
      "---------------------------------------------------------------------------\n",
      "DuplicateIdError                          Traceback (most recent call last)\n",
      "DuplicateIdError: Duplicate component id found in the initial layout: `interval-component`\n",
      "\n"
     ]
    },
    {
     "data": {
      "text/html": [
       "\n",
       "        <iframe\n",
       "            width=\"100%\"\n",
       "            height=\"650\"\n",
       "            src=\"http://127.0.0.1:8086/\"\n",
       "            frameborder=\"0\"\n",
       "            allowfullscreen\n",
       "            \n",
       "        ></iframe>\n",
       "        "
      ],
      "text/plain": [
       "<IPython.lib.display.IFrame at 0x346853990>"
      ]
     },
     "metadata": {},
     "output_type": "display_data"
    },
    {
     "name": "stdout",
     "output_type": "stream",
     "text": [
      "---------------------------------------------------------------------------\n",
      "NotFound                                  Traceback (most recent call last)\n",
      "NotFound: 404 Not Found: The requested URL was not found on the server. If you entered the URL manually please check your spelling and try again.\n",
      "\n",
      "---------------------------------------------------------------------------\n",
      "NotFound                                  Traceback (most recent call last)\n",
      "NotFound: 404 Not Found: The requested URL was not found on the server. If you entered the URL manually please check your spelling and try again.\n",
      "\n",
      "---------------------------------------------------------------------------\n",
      "NotFound                                  Traceback (most recent call last)\n",
      "NotFound: 404 Not Found: The requested URL was not found on the server. If you entered the URL manually please check your spelling and try again.\n",
      "\n",
      "---------------------------------------------------------------------------\n",
      "NotFound                                  Traceback (most recent call last)\n",
      "NotFound: 404 Not Found: The requested URL was not found on the server. If you entered the URL manually please check your spelling and try again.\n",
      "\n",
      "---------------------------------------------------------------------------\n",
      "NotFound                                  Traceback (most recent call last)\n",
      "NotFound: 404 Not Found: The requested URL was not found on the server. If you entered the URL manually please check your spelling and try again.\n",
      "\n",
      "---------------------------------------------------------------------------\n",
      "NotFound                                  Traceback (most recent call last)\n",
      "NotFound: 404 Not Found: The requested URL was not found on the server. If you entered the URL manually please check your spelling and try again.\n",
      "\n",
      "---------------------------------------------------------------------------\n",
      "NotFound                                  Traceback (most recent call last)\n",
      "NotFound: 404 Not Found: The requested URL was not found on the server. If you entered the URL manually please check your spelling and try again.\n",
      "\n",
      "---------------------------------------------------------------------------\n",
      "NotFound                                  Traceback (most recent call last)\n",
      "NotFound: 404 Not Found: The requested URL was not found on the server. If you entered the URL manually please check your spelling and try again.\n",
      "\n",
      "---------------------------------------------------------------------------\n",
      "NotFound                                  Traceback (most recent call last)\n",
      "NotFound: 404 Not Found: The requested URL was not found on the server. If you entered the URL manually please check your spelling and try again.\n",
      "\n"
     ]
    }
   ],
   "source": [
    "app = dash.Dash(__name__, external_stylesheets=[dbc.themes.BOOTSTRAP])\n",
    "app.layout = dbc.Container([\n",
    "    dbc.Row(dbc.Col(html.H2(f\"ML Model Build Report - {user_inputs['Machine Learning Task']}\"), className=\"text-center my-3\")),\n",
    "    dbc.Row([dbc.Col(html.H4(\"Data Split\"))]),\n",
    "    dbc.Row([dbc.Col(dcc.Markdown(explanations[\"data_split_ex\"]),width = 6),\n",
    "            dbc.Col(dcc.Graph(id = 'data_split_id'),className=\"d-flex justify-content-center\",width = 6)]),\n",
    "    dcc.Interval(id='interval-component', interval=1*1000, n_intervals=0, max_intervals=1),\n",
    "    \n",
    "    dbc.Row([dbc.Col(html.H4(\"Initial Model Comparision\"))]),\n",
    "    dbc.Row([dbc.Col(dcc.Graph(id = 'intial_model_compare' ))]),\n",
    "    dcc.Interval(id='interval-component', interval=1*1000, n_intervals=0, max_intervals=1),\n",
    "    dbc.Row([dbc.Col(dcc.Markdown(explanations['initial_modle_compare']))]),\n",
    "    dbc.Row([dbc.Col(html.H4(\"Fine Tunning Model PreProcessing Parameters\"))]),\n",
    "    dbc.Row([dbc.Col(dcc.Markdown(explanations['top3_model_para_compare']))]),\n",
    "    dbc.Row([dbc.Col(html.H4(\"Final Model Build\"))]),\n",
    "    dbc.Row([dbc.Col(dcc.Graph(id = 'final_model_build' ))]),\n",
    "    dbc.Row([dbc.Col(dcc.Markdown(explanations['final_model_build']))]),\n",
    "    dbc.Row([dbc.Col(html.H4(\"Ensemble Model Comaprison\"))]),\n",
    "    dbc.Row([dbc.Col(dcc.Graph(id = 'ensemble_model' ))]),\n",
    "    dbc.Row([dbc.Col(dcc.Markdown(explanations['ensemble_model']))]),\n",
    "    dbc.Row([dbc.Col(html.H4(\"Model Analysis\"))]),\n",
    "    dbc.Row([dbc.Col(html.H4(\"Residuals Plot\"))]),\n",
    "    dbc.Row(dbc.Col(html.Img(src=\"/assets/residuals_plot.png\", style={\"width\": \"60%\"}))),\n",
    "    dbc.Row([dbc.Col(dcc.Markdown(explanations['residual_plot']))]),\n",
    "    dbc.Row([dbc.Col(html.H4(\"Error Plot\"))]),\n",
    "    dbc.Row(dbc.Col(html.Img(src=\"/assets/error_plot.png\", style={\"width\": \"60%\"}))),\n",
    "    dbc.Row([dbc.Col(dcc.Markdown(explanations['error_plot']))]),\n",
    "    dbc.Row([dbc.Col(html.H4(\"Explainable AI\"))]),\n",
    "    dbc.Row([dbc.Col(html.H4(\"Global Explainability - Summary Plot\"))]),\n",
    "    dbc.Row(dbc.Col(html.Img(src=\"/assets/shap_summary_plot.png\", style={\"width\": \"60%\"}))),\n",
    "    dbc.Row([dbc.Col(dcc.Markdown(explanations['shap_summary_plot']))]),\n",
    "    dbc.Row([dbc.Col(html.H4(\"Global Explainability - Feature Importance\"))]),\n",
    "    dbc.Row(dbc.Col(html.Img(src=\"/assets/shap_summary_plot_feature.png\", style={\"width\": \"60%\"}))),\n",
    "    dbc.Row([dbc.Col(dcc.Markdown(explanations['shap_summary_feature']))]),\n",
    "    dbc.Row([dbc.Col(html.H4(\"Global Explainability - Partial Dependence Plot\"))]),\n",
    "    dbc.Row([dbc.Col(dcc.Dropdown(\n",
    "                                    id=\"shap_plot_selector\",\n",
    "                                    options=dropdown_options,\n",
    "                                    value=shap_images[0],  # Default selection\n",
    "                                    clearable=False),)]),\n",
    "    dbc.Row([html.Img(id=\"selected_shap_plot\", style={\"width\": \"60%\", \"margin-top\": \"20px\"})]),\n",
    "    dbc.Row([dbc.Col(dcc.Markdown(explanations['partial_dependence']))]),\n",
    "    dbc.Row([dbc.Col(html.H4(\"Local Explainability - SHAP Waterfall Plot\"))]),\n",
    "    dbc.Row([dcc.Dropdown(\n",
    "        id=\"shap_waterfall_selector\",\n",
    "        options=dropdown_options_loc,\n",
    "        value=shap_images[0],  # Default selection\n",
    "        clearable=False\n",
    "    ),]),\n",
    "    dbc.Row([html.Img(id=\"selected_shap_waterfall\", style={\"width\": \"60%\", \"margin-top\": \"20px\"})]),\n",
    "    dbc.Row([dbc.Col(dcc.Markdown(explanations['local_explain']))]),\n",
    "])\n",
    "\n",
    "@app.callback(\n",
    "    dash.dependencies.Output('data_split_id', 'figure'),\n",
    "    [dash.dependencies.Input('interval-component', 'n_intervals')]\n",
    ")\n",
    "\n",
    "def data_split_plot(n_intervals):\n",
    "    \n",
    "    labels = ['Train', 'Test', 'Evaluation Data']\n",
    "    values = [ml_model_report_inputs['data_split']['train_data_size'], ml_model_report_inputs['data_split']['test_data_size'], ml_model_report_inputs['data_split']['evaluation_data_size']]\n",
    "\n",
    "    # Define the \"pull\" effect (only Evaluation Data is pulled out)\n",
    "    pull_effect = [0.2, 0, 0]  # Only Evaluation Data is pulled out\n",
    "\n",
    "    # Create Pie Chart\n",
    "    fig = go.Figure(data=[go.Pie(labels=labels, values=values, pull=pull_effect)])\n",
    "\n",
    "    # Update Layout\n",
    "    fig.update_layout(width=450, height=450,title = \"Pie Chart\",\n",
    "                      legend=dict(orientation=\"h\",   # Horizontal legend\n",
    "                                    x=0.5, y=1.1,     # Centered below the chart\n",
    "                                    xanchor=\"center\", yanchor=\"top\",\n",
    "                                    font=dict(size=12)))\n",
    "\n",
    "    return fig\n",
    "\n",
    "@app.callback(\n",
    "    dash.dependencies.Output('intial_model_compare', 'figure'),\n",
    "    [dash.dependencies.Input('interval-component', 'n_intervals')]\n",
    ")\n",
    "\n",
    "def intial_model_compare(n_intercals):\n",
    "    data = ml_model_report_inputs['intial_models_comparison']\n",
    "\n",
    "    df = pd.DataFrame(data)\n",
    "\n",
    "    # Create figure with secondary y-axis\n",
    "    fig = make_subplots(specs=[[{\"secondary_y\": True}]])\n",
    "\n",
    "    # Add RMSE as Bar Chart (Primary Y-Axis)\n",
    "    fig.add_trace(go.Bar(\n",
    "        x=df[\"model\"], y=df[\"rmse\"], name=\"RMSE (Error)\", marker_color=\"indigo\"\n",
    "    ), secondary_y=False)\n",
    "\n",
    "    # Add R² as Line Chart (Secondary Y-Axis)\n",
    "    fig.add_trace(go.Scatter(\n",
    "        x=df[\"model\"], y=df[\"r2\"], name=\"R² Score (Accuracy)\",\n",
    "        mode=\"lines+markers\", marker=dict(color=\"red\")\n",
    "    ), secondary_y=True)\n",
    "\n",
    "    # Update Layout\n",
    "    fig.update_layout(\n",
    "        title=\"📊 Model Performance: RMSE vs R²\",\n",
    "        xaxis_title=\"Model\",\n",
    "        yaxis_title=\"RMSE (Lower is Better)\",  # Left Y-Axis Label\n",
    "        yaxis2_title=\"R² Score (Higher is Better)\",# Right Y-Axis Label\n",
    "        height = 500,\n",
    "        legend=dict(orientation=\"h\", x=0.5, y=1.1, xanchor=\"center\")  # Horizontal legend below the chart\n",
    "    )\n",
    "\n",
    "    return fig \n",
    "\n",
    "@app.callback(\n",
    "    dash.dependencies.Output('final_model_build', 'figure'),\n",
    "    [dash.dependencies.Input('interval-component', 'n_intervals')]\n",
    ")\n",
    "\n",
    "def final_model_build(n_intervals):\n",
    "    \n",
    "    # Given dictionary with mixed data types\n",
    "    raw_results = ml_model_report_inputs['best_model_final_results']\n",
    "\n",
    "    # Function to extract numeric values from the dictionary\n",
    "    def extract_numeric(value):\n",
    "        if isinstance(value, str):\n",
    "            return float(value.split()[1])  # Extract the numeric part from string\n",
    "        return value  # Return as is if already a number\n",
    "\n",
    "    # Convert dictionary into structured data format\n",
    "    converted_data = {\n",
    "        \"Stage\": [\"Preprocess\", \"Test\", \"Hyperparameter Test\", \"Evaluation\"],\n",
    "        \"R2\": [\n",
    "            extract_numeric(raw_results[\"preprocess_results\"][\"R2\"]),\n",
    "            extract_numeric(raw_results[\"test_result\"][\"R2\"]),\n",
    "            extract_numeric(raw_results[\"hyperpar_test_result\"][\"R2\"]),\n",
    "            extract_numeric(raw_results[\"eval_result\"][\"R2\"])\n",
    "        ],\n",
    "        \"RMSE\": [\n",
    "            extract_numeric(raw_results[\"preprocess_results\"][\"RMSE\"]),\n",
    "            extract_numeric(raw_results[\"test_result\"][\"RMSE\"]),\n",
    "            extract_numeric(raw_results[\"hyperpar_test_result\"][\"RMSE\"]),\n",
    "            extract_numeric(raw_results[\"eval_result\"][\"RMSE\"])\n",
    "        ]\n",
    "    }\n",
    "\n",
    "    df = pd.DataFrame(converted_data)\n",
    "\n",
    "    # Create figure with secondary y-axis\n",
    "    fig = make_subplots(specs=[[{\"secondary_y\": True}]])\n",
    "\n",
    "    # Add RMSE as Bar Chart (Primary Y-Axis)\n",
    "    fig.add_trace(go.Bar(\n",
    "        x=df[\"Stage\"], y=df[\"RMSE\"], name=\"RMSE (Error)\", marker_color=\"indigo\"\n",
    "    ), secondary_y=False)\n",
    "\n",
    "    # Add R² as Line Chart (Secondary Y-Axis)\n",
    "    fig.add_trace(go.Scatter(\n",
    "        x=df[\"Stage\"], y=df[\"R2\"], name=\"R² Score (Accuracy)\",\n",
    "        mode=\"lines+markers\", marker=dict(color=\"crimson\")\n",
    "    ), secondary_y=True)\n",
    "\n",
    "    # Update Layout\n",
    "    fig.update_layout(\n",
    "        title=\"📊 Model Performance at Different Stages\",\n",
    "        xaxis_title=\"Stage\",\n",
    "        yaxis_title=\"RMSE (Lower is Better)\",  # Left Y-Axis Label\n",
    "        yaxis2_title=\"R² Score (Higher is Better)\",  # Right Y-Axis Label\n",
    "        width=800, height=500,\n",
    "        legend=dict(orientation=\"h\", x=0.5, y=-0.2, xanchor=\"center\")  # Horizontal legend\n",
    "    )\n",
    "\n",
    "    return fig\n",
    "\n",
    "@app.callback(\n",
    "    dash.dependencies.Output('ensemble_model', 'figure'),\n",
    "    [dash.dependencies.Input('interval-component', 'n_intervals')]\n",
    ")\n",
    "\n",
    "def ensemble_model(n_intervals):\n",
    "    \n",
    "    data = ml_model_report_inputs['ensemble_results']\n",
    "\n",
    "    df = pd.DataFrame(data)\n",
    "\n",
    "    # Create figure with secondary y-axis\n",
    "    fig = make_subplots(specs=[[{\"secondary_y\": True}]])  # Enables dual-axis\n",
    "\n",
    "    # Add RMSE as Bar Chart (Primary Y-Axis)\n",
    "    fig.add_trace(go.Bar(\n",
    "        x=df[\"Model\"], y=df[\"RMSE\"], name=\"RMSE (Error)\", marker_color=\"indigo\"\n",
    "    ), secondary_y=False)\n",
    "\n",
    "    # Add R² as Line Chart (Secondary Y-Axis)\n",
    "    fig.add_trace(go.Scatter(\n",
    "        x=df[\"Model\"], y=df[\"R2\"], name=\"R² Score (Accuracy)\",\n",
    "        mode=\"lines+markers\", marker=dict(color=\"crimson\")\n",
    "    ), secondary_y=True)\n",
    "\n",
    "    # Update Layout\n",
    "    fig.update_layout(\n",
    "        title=\"📊 Model Performance: RMSE vs R²\",\n",
    "        xaxis_title=\"Model\",\n",
    "        yaxis_title=\"RMSE (Lower is Better)\",  # Left Y-Axis Label\n",
    "        yaxis2_title=\"R² Score (Higher is Better)\",  # Right Y-Axis Label\n",
    "        width=900, height=500,\n",
    "        legend=dict(orientation=\"h\", x=0.5, y=-0.2, xanchor=\"center\")  # Horizontal legend below the chart\n",
    "    )\n",
    "    return fig\n",
    "\n",
    "@app.callback(\n",
    "    dash.dependencies.Output(\"selected_shap_plot\", \"src\"),\n",
    "    [dash.dependencies.Input(\"shap_plot_selector\", \"value\")]\n",
    ")\n",
    "def update_image(selected_image):\n",
    "    return f\"/assets/{selected_image}\"\n",
    "\n",
    "@app.callback(\n",
    "    dash.dependencies.Output(\"selected_shap_waterfall\", \"src\"),\n",
    "    [dash.dependencies.Input(\"shap_waterfall_selector\", \"value\")]\n",
    ")\n",
    "def update_image(selected_image):\n",
    "    return f\"/assets/{selected_image}\"\n",
    "\n",
    "\n",
    "\n",
    "if __name__ == \"__main__\":\n",
    "    app.run_server(debug=True,port = 8086)"
   ]
  },
  {
   "cell_type": "code",
   "execution_count": 177,
   "metadata": {},
   "outputs": [
    {
     "data": {
      "text/plain": [
       "{'Model': ['Gradient Boosting Regressor',\n",
       "  'Gradient Boosting Regressor(Bagging)',\n",
       "  'Gradient Boosting Regressor(Boosting)',\n",
       "  'Voting Regressor',\n",
       "  'Stacking Regressor'],\n",
       " 'R2': [0.9067, 0.903, 0.903, 0.8933, 0.9029],\n",
       " 'RMSE': [3945.0074, 4022.1087, 4022.1087, 4217.5356, 4023.606]}"
      ]
     },
     "execution_count": 177,
     "metadata": {},
     "output_type": "execute_result"
    }
   ],
   "source": [
    "ml_model_report_inputs['ensemble_results']"
   ]
  },
  {
   "cell_type": "code",
   "execution_count": 178,
   "metadata": {},
   "outputs": [
    {
     "data": {
      "text/html": [
       "<div>\n",
       "<style scoped>\n",
       "    .dataframe tbody tr th:only-of-type {\n",
       "        vertical-align: middle;\n",
       "    }\n",
       "\n",
       "    .dataframe tbody tr th {\n",
       "        vertical-align: top;\n",
       "    }\n",
       "\n",
       "    .dataframe thead th {\n",
       "        text-align: right;\n",
       "    }\n",
       "</style>\n",
       "<table border=\"1\" class=\"dataframe\">\n",
       "  <thead>\n",
       "    <tr style=\"text-align: right;\">\n",
       "      <th></th>\n",
       "      <th>Stage</th>\n",
       "      <th>R2</th>\n",
       "      <th>RMSE</th>\n",
       "    </tr>\n",
       "  </thead>\n",
       "  <tbody>\n",
       "    <tr>\n",
       "      <th>0</th>\n",
       "      <td>Preprocess</td>\n",
       "      <td>0.8445</td>\n",
       "      <td>4732.9684</td>\n",
       "    </tr>\n",
       "    <tr>\n",
       "      <th>1</th>\n",
       "      <td>Test</td>\n",
       "      <td>0.8464</td>\n",
       "      <td>4624.9717</td>\n",
       "    </tr>\n",
       "    <tr>\n",
       "      <th>2</th>\n",
       "      <td>Hyperparameter Test</td>\n",
       "      <td>0.7918</td>\n",
       "      <td>5506.2722</td>\n",
       "    </tr>\n",
       "    <tr>\n",
       "      <th>3</th>\n",
       "      <td>Evaluation</td>\n",
       "      <td>0.9067</td>\n",
       "      <td>3945.0074</td>\n",
       "    </tr>\n",
       "  </tbody>\n",
       "</table>\n",
       "</div>"
      ],
      "text/plain": [
       "                 Stage      R2       RMSE\n",
       "0           Preprocess  0.8445  4732.9684\n",
       "1                 Test  0.8464  4624.9717\n",
       "2  Hyperparameter Test  0.7918  5506.2722\n",
       "3           Evaluation  0.9067  3945.0074"
      ]
     },
     "execution_count": 178,
     "metadata": {},
     "output_type": "execute_result"
    }
   ],
   "source": [
    "# Given dictionary with mixed data types\n",
    "raw_results = ml_model_report_inputs['best_model_final_results']\n",
    "\n",
    "# Function to extract numeric values from the dictionary\n",
    "def extract_numeric(value):\n",
    "    if isinstance(value, str):\n",
    "        return float(value.split()[1])  # Extract the numeric part from string\n",
    "    return value  # Return as is if already a number\n",
    "\n",
    "# Convert dictionary into structured data format\n",
    "converted_data = {\n",
    "    \"Stage\": [\"Preprocess\", \"Test\", \"Hyperparameter Test\", \"Evaluation\"],\n",
    "    \"R2\": [\n",
    "        extract_numeric(raw_results[\"preprocess_results\"][\"R2\"]),\n",
    "        extract_numeric(raw_results[\"test_result\"][\"R2\"]),\n",
    "        extract_numeric(raw_results[\"hyperpar_test_result\"][\"R2\"]),\n",
    "        extract_numeric(raw_results[\"eval_result\"][\"R2\"])\n",
    "    ],\n",
    "    \"RMSE\": [\n",
    "        extract_numeric(raw_results[\"preprocess_results\"][\"RMSE\"]),\n",
    "        extract_numeric(raw_results[\"test_result\"][\"RMSE\"]),\n",
    "        extract_numeric(raw_results[\"hyperpar_test_result\"][\"RMSE\"]),\n",
    "        extract_numeric(raw_results[\"eval_result\"][\"RMSE\"])\n",
    "    ]\n",
    "}\n",
    "\n",
    "# Display structured data\n",
    "import pandas as pd\n",
    "df_converted = pd.DataFrame(converted_data)\n",
    "df_converted\n"
   ]
  },
  {
   "cell_type": "code",
   "execution_count": 179,
   "metadata": {},
   "outputs": [
    {
     "data": {
      "application/vnd.plotly.v1+json": {
       "config": {
        "plotlyServerURL": "https://plot.ly"
       },
       "data": [
        {
         "marker": {
          "color": "royalblue"
         },
         "name": "RMSE (Error)",
         "type": "bar",
         "x": [
          "Preprocess",
          "Test",
          "Hyperparameter Test",
          "Evaluation"
         ],
         "xaxis": "x",
         "y": [
          4749.9178,
          4645.4526,
          5399.806,
          3945.0074
         ],
         "yaxis": "y"
        },
        {
         "marker": {
          "color": "crimson"
         },
         "mode": "lines+markers",
         "name": "R² Score (Accuracy)",
         "type": "scatter",
         "x": [
          "Preprocess",
          "Test",
          "Hyperparameter Test",
          "Evaluation"
         ],
         "xaxis": "x",
         "y": [
          0.8358,
          0.8593,
          0.7909,
          0.9067
         ],
         "yaxis": "y2"
        }
       ],
       "layout": {
        "height": 500,
        "legend": {
         "orientation": "h",
         "x": 0.5,
         "xanchor": "center",
         "y": -0.2
        },
        "template": {
         "data": {
          "bar": [
           {
            "error_x": {
             "color": "#2a3f5f"
            },
            "error_y": {
             "color": "#2a3f5f"
            },
            "marker": {
             "line": {
              "color": "#E5ECF6",
              "width": 0.5
             },
             "pattern": {
              "fillmode": "overlay",
              "size": 10,
              "solidity": 0.2
             }
            },
            "type": "bar"
           }
          ],
          "barpolar": [
           {
            "marker": {
             "line": {
              "color": "#E5ECF6",
              "width": 0.5
             },
             "pattern": {
              "fillmode": "overlay",
              "size": 10,
              "solidity": 0.2
             }
            },
            "type": "barpolar"
           }
          ],
          "carpet": [
           {
            "aaxis": {
             "endlinecolor": "#2a3f5f",
             "gridcolor": "white",
             "linecolor": "white",
             "minorgridcolor": "white",
             "startlinecolor": "#2a3f5f"
            },
            "baxis": {
             "endlinecolor": "#2a3f5f",
             "gridcolor": "white",
             "linecolor": "white",
             "minorgridcolor": "white",
             "startlinecolor": "#2a3f5f"
            },
            "type": "carpet"
           }
          ],
          "choropleth": [
           {
            "colorbar": {
             "outlinewidth": 0,
             "ticks": ""
            },
            "type": "choropleth"
           }
          ],
          "contour": [
           {
            "colorbar": {
             "outlinewidth": 0,
             "ticks": ""
            },
            "colorscale": [
             [
              0,
              "#0d0887"
             ],
             [
              0.1111111111111111,
              "#46039f"
             ],
             [
              0.2222222222222222,
              "#7201a8"
             ],
             [
              0.3333333333333333,
              "#9c179e"
             ],
             [
              0.4444444444444444,
              "#bd3786"
             ],
             [
              0.5555555555555556,
              "#d8576b"
             ],
             [
              0.6666666666666666,
              "#ed7953"
             ],
             [
              0.7777777777777778,
              "#fb9f3a"
             ],
             [
              0.8888888888888888,
              "#fdca26"
             ],
             [
              1,
              "#f0f921"
             ]
            ],
            "type": "contour"
           }
          ],
          "contourcarpet": [
           {
            "colorbar": {
             "outlinewidth": 0,
             "ticks": ""
            },
            "type": "contourcarpet"
           }
          ],
          "heatmap": [
           {
            "colorbar": {
             "outlinewidth": 0,
             "ticks": ""
            },
            "colorscale": [
             [
              0,
              "#0d0887"
             ],
             [
              0.1111111111111111,
              "#46039f"
             ],
             [
              0.2222222222222222,
              "#7201a8"
             ],
             [
              0.3333333333333333,
              "#9c179e"
             ],
             [
              0.4444444444444444,
              "#bd3786"
             ],
             [
              0.5555555555555556,
              "#d8576b"
             ],
             [
              0.6666666666666666,
              "#ed7953"
             ],
             [
              0.7777777777777778,
              "#fb9f3a"
             ],
             [
              0.8888888888888888,
              "#fdca26"
             ],
             [
              1,
              "#f0f921"
             ]
            ],
            "type": "heatmap"
           }
          ],
          "heatmapgl": [
           {
            "colorbar": {
             "outlinewidth": 0,
             "ticks": ""
            },
            "colorscale": [
             [
              0,
              "#0d0887"
             ],
             [
              0.1111111111111111,
              "#46039f"
             ],
             [
              0.2222222222222222,
              "#7201a8"
             ],
             [
              0.3333333333333333,
              "#9c179e"
             ],
             [
              0.4444444444444444,
              "#bd3786"
             ],
             [
              0.5555555555555556,
              "#d8576b"
             ],
             [
              0.6666666666666666,
              "#ed7953"
             ],
             [
              0.7777777777777778,
              "#fb9f3a"
             ],
             [
              0.8888888888888888,
              "#fdca26"
             ],
             [
              1,
              "#f0f921"
             ]
            ],
            "type": "heatmapgl"
           }
          ],
          "histogram": [
           {
            "marker": {
             "pattern": {
              "fillmode": "overlay",
              "size": 10,
              "solidity": 0.2
             }
            },
            "type": "histogram"
           }
          ],
          "histogram2d": [
           {
            "colorbar": {
             "outlinewidth": 0,
             "ticks": ""
            },
            "colorscale": [
             [
              0,
              "#0d0887"
             ],
             [
              0.1111111111111111,
              "#46039f"
             ],
             [
              0.2222222222222222,
              "#7201a8"
             ],
             [
              0.3333333333333333,
              "#9c179e"
             ],
             [
              0.4444444444444444,
              "#bd3786"
             ],
             [
              0.5555555555555556,
              "#d8576b"
             ],
             [
              0.6666666666666666,
              "#ed7953"
             ],
             [
              0.7777777777777778,
              "#fb9f3a"
             ],
             [
              0.8888888888888888,
              "#fdca26"
             ],
             [
              1,
              "#f0f921"
             ]
            ],
            "type": "histogram2d"
           }
          ],
          "histogram2dcontour": [
           {
            "colorbar": {
             "outlinewidth": 0,
             "ticks": ""
            },
            "colorscale": [
             [
              0,
              "#0d0887"
             ],
             [
              0.1111111111111111,
              "#46039f"
             ],
             [
              0.2222222222222222,
              "#7201a8"
             ],
             [
              0.3333333333333333,
              "#9c179e"
             ],
             [
              0.4444444444444444,
              "#bd3786"
             ],
             [
              0.5555555555555556,
              "#d8576b"
             ],
             [
              0.6666666666666666,
              "#ed7953"
             ],
             [
              0.7777777777777778,
              "#fb9f3a"
             ],
             [
              0.8888888888888888,
              "#fdca26"
             ],
             [
              1,
              "#f0f921"
             ]
            ],
            "type": "histogram2dcontour"
           }
          ],
          "mesh3d": [
           {
            "colorbar": {
             "outlinewidth": 0,
             "ticks": ""
            },
            "type": "mesh3d"
           }
          ],
          "parcoords": [
           {
            "line": {
             "colorbar": {
              "outlinewidth": 0,
              "ticks": ""
             }
            },
            "type": "parcoords"
           }
          ],
          "pie": [
           {
            "automargin": true,
            "type": "pie"
           }
          ],
          "scatter": [
           {
            "fillpattern": {
             "fillmode": "overlay",
             "size": 10,
             "solidity": 0.2
            },
            "type": "scatter"
           }
          ],
          "scatter3d": [
           {
            "line": {
             "colorbar": {
              "outlinewidth": 0,
              "ticks": ""
             }
            },
            "marker": {
             "colorbar": {
              "outlinewidth": 0,
              "ticks": ""
             }
            },
            "type": "scatter3d"
           }
          ],
          "scattercarpet": [
           {
            "marker": {
             "colorbar": {
              "outlinewidth": 0,
              "ticks": ""
             }
            },
            "type": "scattercarpet"
           }
          ],
          "scattergeo": [
           {
            "marker": {
             "colorbar": {
              "outlinewidth": 0,
              "ticks": ""
             }
            },
            "type": "scattergeo"
           }
          ],
          "scattergl": [
           {
            "marker": {
             "colorbar": {
              "outlinewidth": 0,
              "ticks": ""
             }
            },
            "type": "scattergl"
           }
          ],
          "scattermapbox": [
           {
            "marker": {
             "colorbar": {
              "outlinewidth": 0,
              "ticks": ""
             }
            },
            "type": "scattermapbox"
           }
          ],
          "scatterpolar": [
           {
            "marker": {
             "colorbar": {
              "outlinewidth": 0,
              "ticks": ""
             }
            },
            "type": "scatterpolar"
           }
          ],
          "scatterpolargl": [
           {
            "marker": {
             "colorbar": {
              "outlinewidth": 0,
              "ticks": ""
             }
            },
            "type": "scatterpolargl"
           }
          ],
          "scatterternary": [
           {
            "marker": {
             "colorbar": {
              "outlinewidth": 0,
              "ticks": ""
             }
            },
            "type": "scatterternary"
           }
          ],
          "surface": [
           {
            "colorbar": {
             "outlinewidth": 0,
             "ticks": ""
            },
            "colorscale": [
             [
              0,
              "#0d0887"
             ],
             [
              0.1111111111111111,
              "#46039f"
             ],
             [
              0.2222222222222222,
              "#7201a8"
             ],
             [
              0.3333333333333333,
              "#9c179e"
             ],
             [
              0.4444444444444444,
              "#bd3786"
             ],
             [
              0.5555555555555556,
              "#d8576b"
             ],
             [
              0.6666666666666666,
              "#ed7953"
             ],
             [
              0.7777777777777778,
              "#fb9f3a"
             ],
             [
              0.8888888888888888,
              "#fdca26"
             ],
             [
              1,
              "#f0f921"
             ]
            ],
            "type": "surface"
           }
          ],
          "table": [
           {
            "cells": {
             "fill": {
              "color": "#EBF0F8"
             },
             "line": {
              "color": "white"
             }
            },
            "header": {
             "fill": {
              "color": "#C8D4E3"
             },
             "line": {
              "color": "white"
             }
            },
            "type": "table"
           }
          ]
         },
         "layout": {
          "annotationdefaults": {
           "arrowcolor": "#2a3f5f",
           "arrowhead": 0,
           "arrowwidth": 1
          },
          "autotypenumbers": "strict",
          "coloraxis": {
           "colorbar": {
            "outlinewidth": 0,
            "ticks": ""
           }
          },
          "colorscale": {
           "diverging": [
            [
             0,
             "#8e0152"
            ],
            [
             0.1,
             "#c51b7d"
            ],
            [
             0.2,
             "#de77ae"
            ],
            [
             0.3,
             "#f1b6da"
            ],
            [
             0.4,
             "#fde0ef"
            ],
            [
             0.5,
             "#f7f7f7"
            ],
            [
             0.6,
             "#e6f5d0"
            ],
            [
             0.7,
             "#b8e186"
            ],
            [
             0.8,
             "#7fbc41"
            ],
            [
             0.9,
             "#4d9221"
            ],
            [
             1,
             "#276419"
            ]
           ],
           "sequential": [
            [
             0,
             "#0d0887"
            ],
            [
             0.1111111111111111,
             "#46039f"
            ],
            [
             0.2222222222222222,
             "#7201a8"
            ],
            [
             0.3333333333333333,
             "#9c179e"
            ],
            [
             0.4444444444444444,
             "#bd3786"
            ],
            [
             0.5555555555555556,
             "#d8576b"
            ],
            [
             0.6666666666666666,
             "#ed7953"
            ],
            [
             0.7777777777777778,
             "#fb9f3a"
            ],
            [
             0.8888888888888888,
             "#fdca26"
            ],
            [
             1,
             "#f0f921"
            ]
           ],
           "sequentialminus": [
            [
             0,
             "#0d0887"
            ],
            [
             0.1111111111111111,
             "#46039f"
            ],
            [
             0.2222222222222222,
             "#7201a8"
            ],
            [
             0.3333333333333333,
             "#9c179e"
            ],
            [
             0.4444444444444444,
             "#bd3786"
            ],
            [
             0.5555555555555556,
             "#d8576b"
            ],
            [
             0.6666666666666666,
             "#ed7953"
            ],
            [
             0.7777777777777778,
             "#fb9f3a"
            ],
            [
             0.8888888888888888,
             "#fdca26"
            ],
            [
             1,
             "#f0f921"
            ]
           ]
          },
          "colorway": [
           "#636efa",
           "#EF553B",
           "#00cc96",
           "#ab63fa",
           "#FFA15A",
           "#19d3f3",
           "#FF6692",
           "#B6E880",
           "#FF97FF",
           "#FECB52"
          ],
          "font": {
           "color": "#2a3f5f"
          },
          "geo": {
           "bgcolor": "white",
           "lakecolor": "white",
           "landcolor": "#E5ECF6",
           "showlakes": true,
           "showland": true,
           "subunitcolor": "white"
          },
          "hoverlabel": {
           "align": "left"
          },
          "hovermode": "closest",
          "mapbox": {
           "style": "light"
          },
          "paper_bgcolor": "white",
          "plot_bgcolor": "#E5ECF6",
          "polar": {
           "angularaxis": {
            "gridcolor": "white",
            "linecolor": "white",
            "ticks": ""
           },
           "bgcolor": "#E5ECF6",
           "radialaxis": {
            "gridcolor": "white",
            "linecolor": "white",
            "ticks": ""
           }
          },
          "scene": {
           "xaxis": {
            "backgroundcolor": "#E5ECF6",
            "gridcolor": "white",
            "gridwidth": 2,
            "linecolor": "white",
            "showbackground": true,
            "ticks": "",
            "zerolinecolor": "white"
           },
           "yaxis": {
            "backgroundcolor": "#E5ECF6",
            "gridcolor": "white",
            "gridwidth": 2,
            "linecolor": "white",
            "showbackground": true,
            "ticks": "",
            "zerolinecolor": "white"
           },
           "zaxis": {
            "backgroundcolor": "#E5ECF6",
            "gridcolor": "white",
            "gridwidth": 2,
            "linecolor": "white",
            "showbackground": true,
            "ticks": "",
            "zerolinecolor": "white"
           }
          },
          "shapedefaults": {
           "line": {
            "color": "#2a3f5f"
           }
          },
          "ternary": {
           "aaxis": {
            "gridcolor": "white",
            "linecolor": "white",
            "ticks": ""
           },
           "baxis": {
            "gridcolor": "white",
            "linecolor": "white",
            "ticks": ""
           },
           "bgcolor": "#E5ECF6",
           "caxis": {
            "gridcolor": "white",
            "linecolor": "white",
            "ticks": ""
           }
          },
          "title": {
           "x": 0.05
          },
          "xaxis": {
           "automargin": true,
           "gridcolor": "white",
           "linecolor": "white",
           "ticks": "",
           "title": {
            "standoff": 15
           },
           "zerolinecolor": "white",
           "zerolinewidth": 2
          },
          "yaxis": {
           "automargin": true,
           "gridcolor": "white",
           "linecolor": "white",
           "ticks": "",
           "title": {
            "standoff": 15
           },
           "zerolinecolor": "white",
           "zerolinewidth": 2
          }
         }
        },
        "title": {
         "text": "📊 Model Performance at Different Stages"
        },
        "width": 800,
        "xaxis": {
         "anchor": "y",
         "domain": [
          0,
          0.94
         ],
         "title": {
          "text": "Stage"
         }
        },
        "yaxis": {
         "anchor": "x",
         "domain": [
          0,
          1
         ],
         "title": {
          "text": "RMSE (Lower is Better)"
         }
        },
        "yaxis2": {
         "anchor": "x",
         "overlaying": "y",
         "side": "right",
         "title": {
          "text": "R² Score (Higher is Better)"
         }
        }
       }
      }
     },
     "metadata": {},
     "output_type": "display_data"
    }
   ],
   "source": [
    "import plotly.graph_objects as go\n",
    "from plotly.subplots import make_subplots\n",
    "import pandas as pd\n",
    "\n",
    "# Given Data\n",
    "data = {\n",
    "    \"Stage\": [\"Preprocess\", \"Test\", \"Hyperparameter Test\", \"Evaluation\"],\n",
    "    \"R2\": [0.8358, 0.8593, 0.7909, 0.9067],  # Converted from string\n",
    "    \"RMSE\": [4749.9178, 4645.4526, 5399.806, 3945.0074]  # Converted from string\n",
    "}\n",
    "\n",
    "df = pd.DataFrame(data)\n",
    "\n",
    "# Create figure with secondary y-axis\n",
    "fig = make_subplots(specs=[[{\"secondary_y\": True}]])\n",
    "\n",
    "# Add RMSE as Bar Chart (Primary Y-Axis)\n",
    "fig.add_trace(go.Bar(\n",
    "    x=df[\"Stage\"], y=df[\"RMSE\"], name=\"RMSE (Error)\", marker_color=\"royalblue\"\n",
    "), secondary_y=False)\n",
    "\n",
    "# Add R² as Line Chart (Secondary Y-Axis)\n",
    "fig.add_trace(go.Scatter(\n",
    "    x=df[\"Stage\"], y=df[\"R2\"], name=\"R² Score (Accuracy)\",\n",
    "    mode=\"lines+markers\", marker=dict(color=\"crimson\")\n",
    "), secondary_y=True)\n",
    "\n",
    "# Update Layout\n",
    "fig.update_layout(\n",
    "    title=\"📊 Model Performance at Different Stages\",\n",
    "    xaxis_title=\"Stage\",\n",
    "    yaxis_title=\"RMSE (Lower is Better)\",  # Left Y-Axis Label\n",
    "    yaxis2_title=\"R² Score (Higher is Better)\",  # Right Y-Axis Label\n",
    "    width=800, height=500,\n",
    "    legend=dict(orientation=\"h\", x=0.5, y=-0.2, xanchor=\"center\")  # Horizontal legend\n",
    ")\n",
    "\n",
    "fig.show()\n"
   ]
  }
 ],
 "metadata": {
  "kernelspec": {
   "display_name": "project_ml_builder",
   "language": "python",
   "name": "python3"
  },
  "language_info": {
   "codemirror_mode": {
    "name": "ipython",
    "version": 3
   },
   "file_extension": ".py",
   "mimetype": "text/x-python",
   "name": "python",
   "nbconvert_exporter": "python",
   "pygments_lexer": "ipython3",
   "version": "3.11.11"
  }
 },
 "nbformat": 4,
 "nbformat_minor": 2
}

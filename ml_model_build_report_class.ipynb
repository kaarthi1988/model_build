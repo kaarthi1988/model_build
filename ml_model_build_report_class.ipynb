{
 "cells": [
  {
   "cell_type": "code",
   "execution_count": 25,
   "metadata": {},
   "outputs": [],
   "source": [
    "import dash\n",
    "from dash import html, dcc\n",
    "import dash_bootstrap_components as dbc\n",
    "import ollama\n",
    "import plotly.express as px\n",
    "import pandas as pd\n",
    "import missingno as msno\n",
    "import matplotlib.pyplot as plt\n",
    "import plotly.figure_factory as ff\n",
    "import io\n",
    "import base64\n",
    "import json\n",
    "import numpy as np\n",
    "import os\n",
    "import plotly.graph_objects as go\n"
   ]
  },
  {
   "cell_type": "code",
   "execution_count": 16,
   "metadata": {},
   "outputs": [],
   "source": [
    "assets_folder = \"metadata\"\n",
    "\n",
    "json_file_path_user_ip = os.path.join(assets_folder, \"user_inputs.json\")\n",
    "with open(json_file_path_user_ip, 'r') as f:\n",
    "    user_inputs = json.load(f)\n",
    "\n",
    "json_file_path_user_dtype = os.path.join(assets_folder, \"user_data_types.json\")\n",
    "with open(json_file_path_user_dtype, 'r') as f:\n",
    "    user_data_types = json.load(f)\n",
    "\n",
    "json_file_path_prepocess_report_ip = os.path.join(assets_folder, \"preprocessing_report_inputs.json\")\n",
    "with open(json_file_path_prepocess_report_ip,'r') as f:\n",
    "    preprocessing_report_inputs = json.load(f)\n",
    "\n",
    "json_file_path_prepocess_ip = os.path.join(assets_folder, \"preprocessing_inputs.json\")    \n",
    "with open(json_file_path_prepocess_ip,'r') as f:\n",
    "    preprocessing_inputs = json.load(f)"
   ]
  },
  {
   "cell_type": "code",
   "execution_count": 17,
   "metadata": {},
   "outputs": [],
   "source": [
    "assets_folder = \"data\"\n",
    "csv_file_path_raw = os.path.join(assets_folder, \"df_raw.csv\")\n",
    "df_dtype_converted = pd.read_csv(csv_file_path_raw)\n",
    "\n",
    "data = df_dtype_converted.sample(frac=0.95,random_state=123) # 95% data for Model training and testing\n",
    "evaluation_data = df_dtype_converted.drop(data.index) # 5% data for Final Evaluation\n"
   ]
  },
  {
   "cell_type": "code",
   "execution_count": 18,
   "metadata": {},
   "outputs": [],
   "source": [
    "assets_folder = \"metadata\"\n",
    "json_file_path_ml_report = os.path.join(assets_folder, \"ml_model_report_inputs.json\")\n",
    "with open(json_file_path_ml_report,'r') as f:\n",
    "    ml_model_report_inputs= json.load(f)"
   ]
  },
  {
   "cell_type": "code",
   "execution_count": 19,
   "metadata": {},
   "outputs": [
    {
     "data": {
      "text/plain": [
       "{'data_split': {'train_data_size': 510,\n",
       "  'test_data_size': 220,\n",
       "  'evaluation_data_size': 38},\n",
       " 'total_preprocess_param_comb': 15,\n",
       " 'intial_models_comparison': {'model': ['Ridge Classifier',\n",
       "   'Logistic Regression',\n",
       "   'Gradient Boosting Classifier',\n",
       "   'Random Forest Classifier',\n",
       "   'Ada Boost Classifier',\n",
       "   'K Neighbors Classifier',\n",
       "   'Decision Tree Classifier',\n",
       "   'SVM - Linear Kernel'],\n",
       "  'accuracy': [0.7549, 0.7686, 0.749, 0.7412, 0.7431, 0.6922, 0.6882, 0.5725],\n",
       "  'auc': [0.8194, 0.8186, 0.8131, 0.7993, 0.7732, 0.6995, 0.6668, 0.5287],\n",
       "  'recall': [0.5221, 0.5556, 0.5841, 0.5619, 0.5783, 0.4943, 0.5956, 0.393],\n",
       "  'precision': [0.6973, 0.716, 0.6554, 0.6498, 0.6465, 0.5672, 0.5486, 0.3094],\n",
       "  'f1': [0.5962, 0.6245, 0.6158, 0.5996, 0.6098, 0.5277, 0.5704, 0.2769]},\n",
       " 'model_comparison': {'total_fits': 15,\n",
       "  'top_model': 'Ridge Classifier',\n",
       "  'top_param': {'Transformation': True,\n",
       "   'Transform_Method': 'yeo-johnson',\n",
       "   'Normalization': False,\n",
       "   'Normalize_Method': None,\n",
       "   'Outlier': False,\n",
       "   'Outlier_Method': None,\n",
       "   'Multicollinearity': False,\n",
       "   'Target Transformation': False,\n",
       "   'Feature Selection': False},\n",
       "  'top_acc': 0.7745,\n",
       "  'top_auc': 0.8246,\n",
       "  'top_recall': 0.5498,\n",
       "  'top_prec': 0.7433,\n",
       "  'top_f1': 0.6279},\n",
       " 'best_model_final_results': {'preprocess_results': {'Accuracy': 0.7745,\n",
       "   'AUC': 0.8246,\n",
       "   'Recall': 0.5498,\n",
       "   'Prec': 0.7433,\n",
       "   'F1': 0.6279},\n",
       "  'test_result': {'Accuracy': 0.7773,\n",
       "   'AUC': 0.7328,\n",
       "   'Recall': 0.5844,\n",
       "   'Prec': 0.7258,\n",
       "   'F1': 0.6475},\n",
       "  'hyperpar_test_result': {'Accuracy': 0.7725,\n",
       "   'AUC': 0.8257,\n",
       "   'Recall': 0.55,\n",
       "   'Prec': 0.7372,\n",
       "   'F1': 0.6267},\n",
       "  'eval_result': {'Accuracy': 0.7895,\n",
       "   'AUC': 0.6923,\n",
       "   'Recall': 0.3846,\n",
       "   'Prec': 1.0,\n",
       "   'F1': 0.5556}},\n",
       " 'ensemble_results': {'Model': ['Ridge Classifier',\n",
       "   'Ridge Classifier(Bagging)',\n",
       "   'Voting Classifier',\n",
       "   'Stacking Classifier'],\n",
       "  'Accuracy': [0.7895, 0.7895, 0.7895, 0.7895],\n",
       "  'AUC': [0.6923, 0.68, 0.6923, 0.8892],\n",
       "  'Recall': [0.3846, 0.3846, 0.3846, 0.3846],\n",
       "  'Precision': [1.0, 1.0, 1.0, 1.0],\n",
       "  'F1': [0.5556, 0.5556, 0.5556, 0.5556]},\n",
       " 'final_best_model': '3'}"
      ]
     },
     "execution_count": 19,
     "metadata": {},
     "output_type": "execute_result"
    }
   ],
   "source": [
    "ml_model_report_inputs"
   ]
  },
  {
   "cell_type": "code",
   "execution_count": 20,
   "metadata": {},
   "outputs": [],
   "source": [
    "# List all SHAP images in the assets folder\n",
    "shap_images = [img for img in os.listdir(\"assets/\") if img.startswith(\"shap_partial_class_\")]\n",
    "\n",
    "# Create options for dropdown (Remove \"shap_partial_\" from names)\n",
    "dropdown_options = [{\"label\": img.replace(\"shap_partial_\", \"\").replace(\".png\", \"\"), \"value\": img} for img in shap_images]"
   ]
  },
  {
   "cell_type": "code",
   "execution_count": 21,
   "metadata": {},
   "outputs": [],
   "source": [
    "shap_images_loc = [img for img in os.listdir(\"assets/\") if img.startswith(\"shap_local_explain_sample_class\")]\n",
    "\n",
    "# ✅ Create dropdown options\n",
    "dropdown_options_loc = [{\"label\": f\"Instance {i+1}\", \"value\": img} for i, img in enumerate(shap_images_loc)]"
   ]
  },
  {
   "cell_type": "code",
   "execution_count": 22,
   "metadata": {},
   "outputs": [],
   "source": [
    "def generate_explanation(stage):\n",
    "    prompts = { \n",
    "        \"data_split\" : f\"Explain the data split summary based on {ml_model_report_inputs['data_split']}. Minimum 100 words maximum 150 word\",\n",
    "        \"initial_modle_compare\" : f\"Summary on compare 10 models on {int(user_inputs['K-Fold'])} number of Kfold cross validation. Top 3 Models {ml_model_report_inputs['intial_models_comparison']['model'][:3]} are choosen and their R2 values respectively are {ml_model_report_inputs['intial_models_comparison']['auc'][0:3]}  provide justification based on this\",\n",
    "        \"top3_model_para_compare\" : f\"Provide summary : Top 3 Models {ml_model_report_inputs['intial_models_comparison']['model'][:3]} fitted with total {ml_model_report_inputs['model_comparison']['total_fits']} models based on all the combination of preprocessing parameters - Normalizaton,Transformation,outliers,Feature seletion.The top model found {ml_model_report_inputs['model_comparison']['top_model']} and the preprocessing parameters are {ml_model_report_inputs['model_comparison']['top_param']}\",\n",
    "        \"final_model_build\" : f\"Provide summary of the Final Model built based on {ml_model_report_inputs['best_model_final_results']}\",\n",
    "        \"ensemble_model\" : f\"Best Model {ml_model_report_inputs['final_best_model']}.Provide Summary of Model comparison based on {ml_model_report_inputs['ensemble_results']}\",\n",
    "        \"boundary_plot\" : f\"Explain how to read Boundary plot in {user_inputs['Machine Learning Task']} Mahine learning task. Maximum 200 Words\",\n",
    "        \"confusion_matrix\" : f\"Explain how to read confusion matrix and Class Report plot in {user_inputs['Machine Learning Task']} Mahine learning task. Maximum 200 Words\",\n",
    "        \"shap_summary_plot\" : f\"\"\"Explain how to read SHAP Summary Plot in explainable AI.\n",
    "                                    Features Are Sorted by ImportanceTop to bottom: \n",
    "                                    The most important features are at the top.\n",
    "                                    SHAP Values Indicate Impact:\n",
    "                                    The X-axis represents SHAP values (impact on model output).\n",
    "                                    Negative SHAP values (left) → Decrease the prediction.\n",
    "                                    Positive SHAP values (right) → Increase the prediction.\n",
    "                                    Colors Represent Feature Values:\n",
    "                                    Color Gradient (from Blue to Red):\n",
    "                                    Blue - Lower feature values\n",
    "                                    Red - Higher feature valuesMaximum 200 Words\"\"\",\n",
    "        \"shap_summary_feature\" : f\"Explain how to read Feature Importance Plot.Maximum 200 Words\",\n",
    "        \"partial_dependence\" : f\"Exlpain about partial dependence plot in Global explainability.Maximum 150 Words\",\n",
    "        \"local_explain\" : \"\"\"Your task is to explain how to interpret a SHAP waterfall plot in a structured and concise manner.\n",
    "\n",
    "                            ### **📊 Understanding a SHAP Waterfall Plot**\n",
    "\n",
    "                            A SHAP waterfall plot visualizes how **each feature** in a machine learning model contributes to a specific prediction by **adding or subtracting value** from a base (expected) prediction.\n",
    "\n",
    "                            #### **1️⃣ Key Components**\n",
    "                            - **Base Value (E[f(X)])**: This is the model’s average prediction across all data points.\n",
    "                            - **Final Prediction (f(x))**: The final predicted value for this specific instance.\n",
    "                            - **Feature Contributions**:\n",
    "                            - **Positive Contributions** (🔴 Red bars): Features that **increase** the prediction.\n",
    "                            - **Negative Contributions** (🔵 Blue bars): Features that **decrease** the prediction.\n",
    "                            - **Feature Importance Order**: The most impactful features are placed at the **top**, while less significant ones are at the **bottom**.\n",
    "\n",
    "                            #### **2️⃣ How to Read the Plot**\n",
    "                            1. **Start from the base value** (leftmost value at the bottom).\n",
    "                            2. **Observe how each feature modifies the base value** step by step.\n",
    "                            - Features **pushing the prediction higher** are in **red**.\n",
    "                            - Features **pulling the prediction lower** are in **blue**.\n",
    "                            3. **The final prediction (f(x))** is obtained by summing the base value and the feature effects.\n",
    "\n",
    "                            #### **3️⃣ Interpretation**\n",
    "                            - **Which features have the most impact?**  \n",
    "                            - The largest bars (longest red/blue bars) indicate the strongest contributors.\n",
    "                            - **Is the prediction higher or lower than expected?**  \n",
    "                            - If most contributions are **positive (red)**, the prediction is **above average**.  \n",
    "                            - If mostly **negative (blue)**, the prediction is **below average**.\n",
    "                            - **How do categorical and numerical features affect the outcome?**  \n",
    "                            - Binary features (e.g., **smoker = 1**) often have a sharp impact.\n",
    "                            - Continuous features (e.g., **age, BMI**) gradually modify the prediction.\"\"\"\n",
    "    }\n",
    "    \n",
    "    response = ollama.chat(model=\"llama2:chat\", messages=[{\"role\": \"user\", \"content\": prompts[stage]}])\n",
    "    \n",
    "    return response['message']['content']\n",
    "\n",
    "explanations = {\n",
    "           \"data_split_ex\" : generate_explanation(\"data_split\"),\n",
    "           \"initial_modle_compare\" : generate_explanation(\"initial_modle_compare\"),\n",
    "           \"top3_model_para_compare\" : generate_explanation(\"top3_model_para_compare\"),\n",
    "           \"final_model_build\" : generate_explanation(\"final_model_build\"),\n",
    "           \"ensemble_model\" : generate_explanation(\"ensemble_model\"),\n",
    "           \"boundary_plot\" : generate_explanation(\"boundary_plot\"),\n",
    "           \"confusion_matrix\" : generate_explanation(\"confusion_matrix\"),\n",
    "           \"shap_summary_plot\" : generate_explanation(\"shap_summary_plot\"),\n",
    "           \"shap_summary_feature\" : generate_explanation(\"shap_summary_feature\"),\n",
    "           \"partial_dependence\" : generate_explanation(\"partial_dependence\"),\n",
    "           \"local_explain\" : generate_explanation(\"local_explain\")\n",
    "}"
   ]
  },
  {
   "cell_type": "code",
   "execution_count": 26,
   "metadata": {},
   "outputs": [
    {
     "name": "stdout",
     "output_type": "stream",
     "text": [
      "---------------------------------------------------------------------------\n",
      "DuplicateIdError                          Traceback (most recent call last)\n",
      "DuplicateIdError: Duplicate component id found in the initial layout: `interval-component`\n",
      "\n"
     ]
    },
    {
     "data": {
      "text/html": [
       "\n",
       "        <iframe\n",
       "            width=\"100%\"\n",
       "            height=\"650\"\n",
       "            src=\"http://127.0.0.1:8090/\"\n",
       "            frameborder=\"0\"\n",
       "            allowfullscreen\n",
       "            \n",
       "        ></iframe>\n",
       "        "
      ],
      "text/plain": [
       "<IPython.lib.display.IFrame at 0x123c380d0>"
      ]
     },
     "metadata": {},
     "output_type": "display_data"
    },
    {
     "name": "stdout",
     "output_type": "stream",
     "text": [
      "---------------------------------------------------------------------------\n",
      "NotFound                                  Traceback (most recent call last)\n",
      "NotFound: 404 Not Found: The requested URL was not found on the server. If you entered the URL manually please check your spelling and try again.\n",
      "\n",
      "---------------------------------------------------------------------------\n",
      "NotFound                                  Traceback (most recent call last)\n",
      "NotFound: 404 Not Found: The requested URL was not found on the server. If you entered the URL manually please check your spelling and try again.\n",
      "\n"
     ]
    }
   ],
   "source": [
    "app = dash.Dash(__name__, external_stylesheets=[dbc.themes.BOOTSTRAP])\n",
    "app.layout = dbc.Container([\n",
    "    dbc.Row(dbc.Col(html.H2(f\"ML Model Build Report - {user_inputs['Machine Learning Task']}\"), className=\"text-center my-3\")),\n",
    "    dbc.Row([dbc.Col(html.H4(\"Data Split\"))]),\n",
    "    dbc.Row([dbc.Col(dcc.Markdown(explanations[\"data_split_ex\"]),width = 6),\n",
    "            dbc.Col(dcc.Graph(id = 'data_split_id'),className=\"d-flex justify-content-center\",width = 6)]),\n",
    "    dcc.Interval(id='interval-component', interval=1*1000, n_intervals=0, max_intervals=1),\n",
    "    \n",
    "    dbc.Row([dbc.Col(html.H4(\"Initial Model Comparision\"))]),\n",
    "    dbc.Row([dbc.Col(dcc.Graph(id = 'intial_model_compare' ))]),\n",
    "    dcc.Interval(id='interval-component', interval=1*1000, n_intervals=0, max_intervals=1),\n",
    "    dbc.Row([dbc.Col(dcc.Markdown(explanations['initial_modle_compare']))]),\n",
    "    dbc.Row([dbc.Col(html.H4(\"Fine Tunning Model PreProcessing Parameters\"))]),\n",
    "    dbc.Row([dbc.Col(dcc.Markdown(explanations['top3_model_para_compare']))]),\n",
    "    dbc.Row([dbc.Col(html.H4(\"Final Model Build\"))]),\n",
    "    dbc.Row([dbc.Col(dcc.Graph(id = 'final_model_build' ))]),\n",
    "    dbc.Row([dbc.Col(dcc.Markdown(explanations['final_model_build']))]),\n",
    "    dbc.Row([dbc.Col(html.H4(\"Ensemble Model Comaprison\"))]),\n",
    "    dbc.Row([dbc.Col(dcc.Graph(id = 'ensemble_model' ))]),\n",
    "    dbc.Row([dbc.Col(dcc.Markdown(explanations['ensemble_model']))]),\n",
    "    dbc.Row([dbc.Col(html.H4(\"Model Analysis\"))]),\n",
    "    dbc.Row([dbc.Col(html.H4(\"Boundary Plot\"))]),\n",
    "    dbc.Row(dbc.Col(html.Img(src=\"/assets/boundary_plot.png\", style={\"width\": \"60%\"}))),\n",
    "    dbc.Row([dbc.Col(dcc.Markdown(explanations['boundary_plot']))]),\n",
    "    dbc.Row([dbc.Col(html.H4(\"Confusion Matrix and Class Report\"))]),\n",
    "    dbc.Row([dbc.Col(html.Img(src=\"/assets/confusion_matrix_plot.png\", style={\"width\": \"100%\"})),\n",
    "            dbc.Col(html.Img(src=\"/assets/class_report_plot.png\", style={\"width\": \"100%\"}))]),\n",
    "    dbc.Row([dbc.Col(dcc.Markdown(explanations['confusion_matrix']))]),\n",
    "    dbc.Row([dbc.Col(html.H4(\"Explainable AI\"))]),\n",
    "    dbc.Row([dbc.Col(html.H4(\"Global Explainability - Summary Plot\"))]),\n",
    "    dbc.Row(dbc.Col(html.Img(src=\"/assets/shap_summary_plot_class.png\", style={\"width\": \"60%\"}))),\n",
    "    dbc.Row([dbc.Col(dcc.Markdown(explanations['shap_summary_plot']))]),\n",
    "    dbc.Row([dbc.Col(html.H4(\"Global Explainability - Feature Importance\"))]),\n",
    "    dbc.Row(dbc.Col(html.Img(src=\"/assets/shap_summary_plot_feature_class.png\", style={\"width\": \"60%\"}))),\n",
    "    dbc.Row([dbc.Col(dcc.Markdown(explanations['shap_summary_feature']))]),\n",
    "    dbc.Row([dbc.Col(html.H4(\"Global Explainability - Partial Dependence Plot\"))]),\n",
    "    dbc.Row([dbc.Col(dcc.Dropdown(\n",
    "                                    id=\"shap_plot_selector\",\n",
    "                                    options=dropdown_options,\n",
    "                                    value=shap_images[0],  # Default selection\n",
    "                                    clearable=False),)]),\n",
    "    dbc.Row([html.Img(id=\"selected_shap_plot\", style={\"width\": \"60%\", \"margin-top\": \"20px\"})]),\n",
    "    dbc.Row([dbc.Col(dcc.Markdown(explanations['partial_dependence']))]),\n",
    "    dbc.Row([dbc.Col(html.H4(\"Local Explainability - SHAP Waterfall Plot\"))]),\n",
    "    dbc.Row([dcc.Dropdown(\n",
    "        id=\"shap_waterfall_selector\",\n",
    "        options=dropdown_options_loc,\n",
    "        value=shap_images[0],  # Default selection\n",
    "        clearable=False\n",
    "    ),]),\n",
    "    dbc.Row([html.Img(id=\"selected_shap_waterfall\", style={\"width\": \"60%\", \"margin-top\": \"20px\"})]),\n",
    "    dbc.Row([dbc.Col(dcc.Markdown(explanations['local_explain']))]),\n",
    "])\n",
    "\n",
    "@app.callback(\n",
    "    dash.dependencies.Output('data_split_id', 'figure'),\n",
    "    [dash.dependencies.Input('interval-component', 'n_intervals')]\n",
    ")\n",
    "\n",
    "def data_split_plot(n_intervals):\n",
    "    \n",
    "    labels = ['Train', 'Test', 'Evaluation Data']\n",
    "    values = [ml_model_report_inputs['data_split']['train_data_size'], ml_model_report_inputs['data_split']['test_data_size'], ml_model_report_inputs['data_split']['evaluation_data_size']]\n",
    "\n",
    "    # Define the \"pull\" effect (only Evaluation Data is pulled out)\n",
    "    pull_effect = [0.2, 0, 0]  # Only Evaluation Data is pulled out\n",
    "\n",
    "    # Create Pie Chart\n",
    "    fig = go.Figure(data=[go.Pie(labels=labels, values=values, pull=pull_effect)])\n",
    "\n",
    "    # Update Layout\n",
    "    fig.update_layout(width=450, height=450,title = \"Pie Chart\",\n",
    "                      legend=dict(orientation=\"h\",   # Horizontal legend\n",
    "                                    x=0.5, y=1.1,     # Centered below the chart\n",
    "                                    xanchor=\"center\", yanchor=\"top\",\n",
    "                                    font=dict(size=12)))\n",
    "\n",
    "    return fig\n",
    "\n",
    "@app.callback(\n",
    "    dash.dependencies.Output('intial_model_compare', 'figure'),\n",
    "    [dash.dependencies.Input('interval-component', 'n_intervals')]\n",
    ")\n",
    "\n",
    "def intial_model_compare(n_intercals):\n",
    "    data = ml_model_report_inputs['intial_models_comparison']\n",
    "\n",
    "    df = pd.DataFrame(data)\n",
    "\n",
    "    # Melt the DataFrame to long format for Plotly\n",
    "    df_long = df.melt(id_vars='model', \n",
    "                    value_vars=['accuracy', 'auc', 'recall', 'precision', 'f1'],\n",
    "                    var_name='metric', \n",
    "                    value_name='value')\n",
    "\n",
    "    # Create a grouped bar chart\n",
    "    fig = px.bar(df_long, \n",
    "                x='model', \n",
    "                y='value', \n",
    "                color='metric', \n",
    "                barmode='group',\n",
    "                title='Model Comparison for Classification Metrics',\n",
    "                text='value')\n",
    "\n",
    "    # Optionally format the text on bars\n",
    "    fig.update_traces(texttemplate='%{text:.4f}', textposition='outside')\n",
    "    fig.update_layout(xaxis_title='Model', yaxis_title='Metric Value', uniformtext_minsize=8)\n",
    "\n",
    "\n",
    "    return fig \n",
    "\n",
    "@app.callback(\n",
    "    dash.dependencies.Output('final_model_build', 'figure'),\n",
    "    [dash.dependencies.Input('interval-component', 'n_intervals')]\n",
    ")\n",
    "\n",
    "def final_model_build(n_intervals):\n",
    "    \n",
    "    # Given dictionary with mixed data types\n",
    "    data = ml_model_report_inputs['best_model_final_results']\n",
    "\n",
    "    df = pd.DataFrame(data)\n",
    "    df.index.name = 'metric'\n",
    "    df = df.rename(columns={\n",
    "        'preprocess_results': 'Preprocess',\n",
    "        'test_result': 'Test',\n",
    "        'hyperpar_test_result': 'Hyperparameter Test',\n",
    "        'eval_result': 'Evaluation'\n",
    "    })\n",
    "    # Reset the index so that 'metric' becomes a column\n",
    "    df = df.reset_index()\n",
    "\n",
    "    # Melt the DataFrame to a long format\n",
    "    df_long = df.melt(id_vars='metric', var_name='model', value_name='value')\n",
    "\n",
    "    # Create a grouped bar chart using Plotly Express\n",
    "    fig = px.bar(df_long,\n",
    "                x='model',\n",
    "                y='value',\n",
    "                color='metric',\n",
    "                barmode='group',\n",
    "                title='Model Comparison for Classification Metrics',\n",
    "                text='value')\n",
    "\n",
    "    # Format the text on bars\n",
    "    fig.update_traces(texttemplate='%{text:.4f}', textposition='outside')\n",
    "    fig.update_layout(xaxis_title='Result Type', yaxis_title='Metric Value', uniformtext_minsize=8)\n",
    "\n",
    "    return fig\n",
    "\n",
    "@app.callback(\n",
    "    dash.dependencies.Output('ensemble_model', 'figure'),\n",
    "    [dash.dependencies.Input('interval-component', 'n_intervals')]\n",
    ")\n",
    "\n",
    "def ensemble_model(n_intervals):\n",
    "    \n",
    "    data = ml_model_report_inputs['ensemble_results']\n",
    "\n",
    "    df = pd.DataFrame(data)\n",
    "\n",
    "    # Create figure with secondary y-axis\n",
    "   \n",
    "\n",
    "# Convert the DataFrame to a long format for plotting\n",
    "    df_long = df.melt(id_vars='Model', \n",
    "                    value_vars=['Accuracy', 'AUC', 'Recall', 'Precision', 'F1'], \n",
    "                    var_name='Metric', \n",
    "                    value_name='Value')\n",
    "\n",
    "    # Create a grouped bar chart using Plotly Express\n",
    "    fig = px.bar(df_long, \n",
    "                x='Model', \n",
    "                y='Value', \n",
    "                color='Metric', \n",
    "                barmode='group', \n",
    "                title=\"Evaluation Metrics for Different Models\",\n",
    "                text='Value')\n",
    "\n",
    "    # Format the text on bars\n",
    "    fig.update_traces(texttemplate='%{text:.4f}', textposition='outside')\n",
    "    fig.update_layout(yaxis_title='Metric Value', xaxis_title='Model', uniformtext_minsize=8)\n",
    "    \n",
    "    return fig\n",
    "\n",
    "@app.callback(\n",
    "    dash.dependencies.Output(\"selected_shap_plot\", \"src\"),\n",
    "    [dash.dependencies.Input(\"shap_plot_selector\", \"value\")]\n",
    ")\n",
    "def update_image(selected_image):\n",
    "    return f\"/assets/{selected_image}\"\n",
    "\n",
    "@app.callback(\n",
    "    dash.dependencies.Output(\"selected_shap_waterfall\", \"src\"),\n",
    "    [dash.dependencies.Input(\"shap_waterfall_selector\", \"value\")]\n",
    ")\n",
    "def update_image(selected_image):\n",
    "    return f\"/assets/{selected_image}\"\n",
    "\n",
    "\n",
    "\n",
    "if __name__ == \"__main__\":\n",
    "    app.run_server(debug=True,port = 8090)"
   ]
  },
  {
   "cell_type": "code",
   "execution_count": null,
   "metadata": {},
   "outputs": [
    {
     "data": {
      "application/vnd.plotly.v1+json": {
       "config": {
        "plotlyServerURL": "https://plot.ly"
       },
       "data": [
        {
         "alignmentgroup": "True",
         "hovertemplate": "metric=Accuracy<br>model=%{x}<br>value=%{text}<extra></extra>",
         "legendgroup": "Accuracy",
         "marker": {
          "color": "#636efa",
          "pattern": {
           "shape": ""
          }
         },
         "name": "Accuracy",
         "offsetgroup": "Accuracy",
         "orientation": "v",
         "showlegend": true,
         "text": [
          0.7745,
          0.7773,
          0.7725,
          0.7895
         ],
         "textposition": "outside",
         "texttemplate": "%{text:.4f}",
         "type": "bar",
         "x": [
          "Preprocess",
          "Test",
          "Hyperparameter Test",
          "Evaluation"
         ],
         "xaxis": "x",
         "y": [
          0.7745,
          0.7773,
          0.7725,
          0.7895
         ],
         "yaxis": "y"
        },
        {
         "alignmentgroup": "True",
         "hovertemplate": "metric=AUC<br>model=%{x}<br>value=%{text}<extra></extra>",
         "legendgroup": "AUC",
         "marker": {
          "color": "#EF553B",
          "pattern": {
           "shape": ""
          }
         },
         "name": "AUC",
         "offsetgroup": "AUC",
         "orientation": "v",
         "showlegend": true,
         "text": [
          0.8246,
          0.7328,
          0.8257,
          0.6923
         ],
         "textposition": "outside",
         "texttemplate": "%{text:.4f}",
         "type": "bar",
         "x": [
          "Preprocess",
          "Test",
          "Hyperparameter Test",
          "Evaluation"
         ],
         "xaxis": "x",
         "y": [
          0.8246,
          0.7328,
          0.8257,
          0.6923
         ],
         "yaxis": "y"
        },
        {
         "alignmentgroup": "True",
         "hovertemplate": "metric=Recall<br>model=%{x}<br>value=%{text}<extra></extra>",
         "legendgroup": "Recall",
         "marker": {
          "color": "#00cc96",
          "pattern": {
           "shape": ""
          }
         },
         "name": "Recall",
         "offsetgroup": "Recall",
         "orientation": "v",
         "showlegend": true,
         "text": [
          0.5498,
          0.5844,
          0.55,
          0.3846
         ],
         "textposition": "outside",
         "texttemplate": "%{text:.4f}",
         "type": "bar",
         "x": [
          "Preprocess",
          "Test",
          "Hyperparameter Test",
          "Evaluation"
         ],
         "xaxis": "x",
         "y": [
          0.5498,
          0.5844,
          0.55,
          0.3846
         ],
         "yaxis": "y"
        },
        {
         "alignmentgroup": "True",
         "hovertemplate": "metric=Prec<br>model=%{x}<br>value=%{text}<extra></extra>",
         "legendgroup": "Prec",
         "marker": {
          "color": "#ab63fa",
          "pattern": {
           "shape": ""
          }
         },
         "name": "Prec",
         "offsetgroup": "Prec",
         "orientation": "v",
         "showlegend": true,
         "text": [
          0.7433,
          0.7258,
          0.7372,
          1
         ],
         "textposition": "outside",
         "texttemplate": "%{text:.4f}",
         "type": "bar",
         "x": [
          "Preprocess",
          "Test",
          "Hyperparameter Test",
          "Evaluation"
         ],
         "xaxis": "x",
         "y": [
          0.7433,
          0.7258,
          0.7372,
          1
         ],
         "yaxis": "y"
        },
        {
         "alignmentgroup": "True",
         "hovertemplate": "metric=F1<br>model=%{x}<br>value=%{text}<extra></extra>",
         "legendgroup": "F1",
         "marker": {
          "color": "#FFA15A",
          "pattern": {
           "shape": ""
          }
         },
         "name": "F1",
         "offsetgroup": "F1",
         "orientation": "v",
         "showlegend": true,
         "text": [
          0.6279,
          0.6475,
          0.6267,
          0.5556
         ],
         "textposition": "outside",
         "texttemplate": "%{text:.4f}",
         "type": "bar",
         "x": [
          "Preprocess",
          "Test",
          "Hyperparameter Test",
          "Evaluation"
         ],
         "xaxis": "x",
         "y": [
          0.6279,
          0.6475,
          0.6267,
          0.5556
         ],
         "yaxis": "y"
        }
       ],
       "layout": {
        "barmode": "group",
        "legend": {
         "title": {
          "text": "metric"
         },
         "tracegroupgap": 0
        },
        "template": {
         "data": {
          "bar": [
           {
            "error_x": {
             "color": "#2a3f5f"
            },
            "error_y": {
             "color": "#2a3f5f"
            },
            "marker": {
             "line": {
              "color": "#E5ECF6",
              "width": 0.5
             },
             "pattern": {
              "fillmode": "overlay",
              "size": 10,
              "solidity": 0.2
             }
            },
            "type": "bar"
           }
          ],
          "barpolar": [
           {
            "marker": {
             "line": {
              "color": "#E5ECF6",
              "width": 0.5
             },
             "pattern": {
              "fillmode": "overlay",
              "size": 10,
              "solidity": 0.2
             }
            },
            "type": "barpolar"
           }
          ],
          "carpet": [
           {
            "aaxis": {
             "endlinecolor": "#2a3f5f",
             "gridcolor": "white",
             "linecolor": "white",
             "minorgridcolor": "white",
             "startlinecolor": "#2a3f5f"
            },
            "baxis": {
             "endlinecolor": "#2a3f5f",
             "gridcolor": "white",
             "linecolor": "white",
             "minorgridcolor": "white",
             "startlinecolor": "#2a3f5f"
            },
            "type": "carpet"
           }
          ],
          "choropleth": [
           {
            "colorbar": {
             "outlinewidth": 0,
             "ticks": ""
            },
            "type": "choropleth"
           }
          ],
          "contour": [
           {
            "colorbar": {
             "outlinewidth": 0,
             "ticks": ""
            },
            "colorscale": [
             [
              0,
              "#0d0887"
             ],
             [
              0.1111111111111111,
              "#46039f"
             ],
             [
              0.2222222222222222,
              "#7201a8"
             ],
             [
              0.3333333333333333,
              "#9c179e"
             ],
             [
              0.4444444444444444,
              "#bd3786"
             ],
             [
              0.5555555555555556,
              "#d8576b"
             ],
             [
              0.6666666666666666,
              "#ed7953"
             ],
             [
              0.7777777777777778,
              "#fb9f3a"
             ],
             [
              0.8888888888888888,
              "#fdca26"
             ],
             [
              1,
              "#f0f921"
             ]
            ],
            "type": "contour"
           }
          ],
          "contourcarpet": [
           {
            "colorbar": {
             "outlinewidth": 0,
             "ticks": ""
            },
            "type": "contourcarpet"
           }
          ],
          "heatmap": [
           {
            "colorbar": {
             "outlinewidth": 0,
             "ticks": ""
            },
            "colorscale": [
             [
              0,
              "#0d0887"
             ],
             [
              0.1111111111111111,
              "#46039f"
             ],
             [
              0.2222222222222222,
              "#7201a8"
             ],
             [
              0.3333333333333333,
              "#9c179e"
             ],
             [
              0.4444444444444444,
              "#bd3786"
             ],
             [
              0.5555555555555556,
              "#d8576b"
             ],
             [
              0.6666666666666666,
              "#ed7953"
             ],
             [
              0.7777777777777778,
              "#fb9f3a"
             ],
             [
              0.8888888888888888,
              "#fdca26"
             ],
             [
              1,
              "#f0f921"
             ]
            ],
            "type": "heatmap"
           }
          ],
          "heatmapgl": [
           {
            "colorbar": {
             "outlinewidth": 0,
             "ticks": ""
            },
            "colorscale": [
             [
              0,
              "#0d0887"
             ],
             [
              0.1111111111111111,
              "#46039f"
             ],
             [
              0.2222222222222222,
              "#7201a8"
             ],
             [
              0.3333333333333333,
              "#9c179e"
             ],
             [
              0.4444444444444444,
              "#bd3786"
             ],
             [
              0.5555555555555556,
              "#d8576b"
             ],
             [
              0.6666666666666666,
              "#ed7953"
             ],
             [
              0.7777777777777778,
              "#fb9f3a"
             ],
             [
              0.8888888888888888,
              "#fdca26"
             ],
             [
              1,
              "#f0f921"
             ]
            ],
            "type": "heatmapgl"
           }
          ],
          "histogram": [
           {
            "marker": {
             "pattern": {
              "fillmode": "overlay",
              "size": 10,
              "solidity": 0.2
             }
            },
            "type": "histogram"
           }
          ],
          "histogram2d": [
           {
            "colorbar": {
             "outlinewidth": 0,
             "ticks": ""
            },
            "colorscale": [
             [
              0,
              "#0d0887"
             ],
             [
              0.1111111111111111,
              "#46039f"
             ],
             [
              0.2222222222222222,
              "#7201a8"
             ],
             [
              0.3333333333333333,
              "#9c179e"
             ],
             [
              0.4444444444444444,
              "#bd3786"
             ],
             [
              0.5555555555555556,
              "#d8576b"
             ],
             [
              0.6666666666666666,
              "#ed7953"
             ],
             [
              0.7777777777777778,
              "#fb9f3a"
             ],
             [
              0.8888888888888888,
              "#fdca26"
             ],
             [
              1,
              "#f0f921"
             ]
            ],
            "type": "histogram2d"
           }
          ],
          "histogram2dcontour": [
           {
            "colorbar": {
             "outlinewidth": 0,
             "ticks": ""
            },
            "colorscale": [
             [
              0,
              "#0d0887"
             ],
             [
              0.1111111111111111,
              "#46039f"
             ],
             [
              0.2222222222222222,
              "#7201a8"
             ],
             [
              0.3333333333333333,
              "#9c179e"
             ],
             [
              0.4444444444444444,
              "#bd3786"
             ],
             [
              0.5555555555555556,
              "#d8576b"
             ],
             [
              0.6666666666666666,
              "#ed7953"
             ],
             [
              0.7777777777777778,
              "#fb9f3a"
             ],
             [
              0.8888888888888888,
              "#fdca26"
             ],
             [
              1,
              "#f0f921"
             ]
            ],
            "type": "histogram2dcontour"
           }
          ],
          "mesh3d": [
           {
            "colorbar": {
             "outlinewidth": 0,
             "ticks": ""
            },
            "type": "mesh3d"
           }
          ],
          "parcoords": [
           {
            "line": {
             "colorbar": {
              "outlinewidth": 0,
              "ticks": ""
             }
            },
            "type": "parcoords"
           }
          ],
          "pie": [
           {
            "automargin": true,
            "type": "pie"
           }
          ],
          "scatter": [
           {
            "fillpattern": {
             "fillmode": "overlay",
             "size": 10,
             "solidity": 0.2
            },
            "type": "scatter"
           }
          ],
          "scatter3d": [
           {
            "line": {
             "colorbar": {
              "outlinewidth": 0,
              "ticks": ""
             }
            },
            "marker": {
             "colorbar": {
              "outlinewidth": 0,
              "ticks": ""
             }
            },
            "type": "scatter3d"
           }
          ],
          "scattercarpet": [
           {
            "marker": {
             "colorbar": {
              "outlinewidth": 0,
              "ticks": ""
             }
            },
            "type": "scattercarpet"
           }
          ],
          "scattergeo": [
           {
            "marker": {
             "colorbar": {
              "outlinewidth": 0,
              "ticks": ""
             }
            },
            "type": "scattergeo"
           }
          ],
          "scattergl": [
           {
            "marker": {
             "colorbar": {
              "outlinewidth": 0,
              "ticks": ""
             }
            },
            "type": "scattergl"
           }
          ],
          "scattermapbox": [
           {
            "marker": {
             "colorbar": {
              "outlinewidth": 0,
              "ticks": ""
             }
            },
            "type": "scattermapbox"
           }
          ],
          "scatterpolar": [
           {
            "marker": {
             "colorbar": {
              "outlinewidth": 0,
              "ticks": ""
             }
            },
            "type": "scatterpolar"
           }
          ],
          "scatterpolargl": [
           {
            "marker": {
             "colorbar": {
              "outlinewidth": 0,
              "ticks": ""
             }
            },
            "type": "scatterpolargl"
           }
          ],
          "scatterternary": [
           {
            "marker": {
             "colorbar": {
              "outlinewidth": 0,
              "ticks": ""
             }
            },
            "type": "scatterternary"
           }
          ],
          "surface": [
           {
            "colorbar": {
             "outlinewidth": 0,
             "ticks": ""
            },
            "colorscale": [
             [
              0,
              "#0d0887"
             ],
             [
              0.1111111111111111,
              "#46039f"
             ],
             [
              0.2222222222222222,
              "#7201a8"
             ],
             [
              0.3333333333333333,
              "#9c179e"
             ],
             [
              0.4444444444444444,
              "#bd3786"
             ],
             [
              0.5555555555555556,
              "#d8576b"
             ],
             [
              0.6666666666666666,
              "#ed7953"
             ],
             [
              0.7777777777777778,
              "#fb9f3a"
             ],
             [
              0.8888888888888888,
              "#fdca26"
             ],
             [
              1,
              "#f0f921"
             ]
            ],
            "type": "surface"
           }
          ],
          "table": [
           {
            "cells": {
             "fill": {
              "color": "#EBF0F8"
             },
             "line": {
              "color": "white"
             }
            },
            "header": {
             "fill": {
              "color": "#C8D4E3"
             },
             "line": {
              "color": "white"
             }
            },
            "type": "table"
           }
          ]
         },
         "layout": {
          "annotationdefaults": {
           "arrowcolor": "#2a3f5f",
           "arrowhead": 0,
           "arrowwidth": 1
          },
          "autotypenumbers": "strict",
          "coloraxis": {
           "colorbar": {
            "outlinewidth": 0,
            "ticks": ""
           }
          },
          "colorscale": {
           "diverging": [
            [
             0,
             "#8e0152"
            ],
            [
             0.1,
             "#c51b7d"
            ],
            [
             0.2,
             "#de77ae"
            ],
            [
             0.3,
             "#f1b6da"
            ],
            [
             0.4,
             "#fde0ef"
            ],
            [
             0.5,
             "#f7f7f7"
            ],
            [
             0.6,
             "#e6f5d0"
            ],
            [
             0.7,
             "#b8e186"
            ],
            [
             0.8,
             "#7fbc41"
            ],
            [
             0.9,
             "#4d9221"
            ],
            [
             1,
             "#276419"
            ]
           ],
           "sequential": [
            [
             0,
             "#0d0887"
            ],
            [
             0.1111111111111111,
             "#46039f"
            ],
            [
             0.2222222222222222,
             "#7201a8"
            ],
            [
             0.3333333333333333,
             "#9c179e"
            ],
            [
             0.4444444444444444,
             "#bd3786"
            ],
            [
             0.5555555555555556,
             "#d8576b"
            ],
            [
             0.6666666666666666,
             "#ed7953"
            ],
            [
             0.7777777777777778,
             "#fb9f3a"
            ],
            [
             0.8888888888888888,
             "#fdca26"
            ],
            [
             1,
             "#f0f921"
            ]
           ],
           "sequentialminus": [
            [
             0,
             "#0d0887"
            ],
            [
             0.1111111111111111,
             "#46039f"
            ],
            [
             0.2222222222222222,
             "#7201a8"
            ],
            [
             0.3333333333333333,
             "#9c179e"
            ],
            [
             0.4444444444444444,
             "#bd3786"
            ],
            [
             0.5555555555555556,
             "#d8576b"
            ],
            [
             0.6666666666666666,
             "#ed7953"
            ],
            [
             0.7777777777777778,
             "#fb9f3a"
            ],
            [
             0.8888888888888888,
             "#fdca26"
            ],
            [
             1,
             "#f0f921"
            ]
           ]
          },
          "colorway": [
           "#636efa",
           "#EF553B",
           "#00cc96",
           "#ab63fa",
           "#FFA15A",
           "#19d3f3",
           "#FF6692",
           "#B6E880",
           "#FF97FF",
           "#FECB52"
          ],
          "font": {
           "color": "#2a3f5f"
          },
          "geo": {
           "bgcolor": "white",
           "lakecolor": "white",
           "landcolor": "#E5ECF6",
           "showlakes": true,
           "showland": true,
           "subunitcolor": "white"
          },
          "hoverlabel": {
           "align": "left"
          },
          "hovermode": "closest",
          "mapbox": {
           "style": "light"
          },
          "paper_bgcolor": "white",
          "plot_bgcolor": "#E5ECF6",
          "polar": {
           "angularaxis": {
            "gridcolor": "white",
            "linecolor": "white",
            "ticks": ""
           },
           "bgcolor": "#E5ECF6",
           "radialaxis": {
            "gridcolor": "white",
            "linecolor": "white",
            "ticks": ""
           }
          },
          "scene": {
           "xaxis": {
            "backgroundcolor": "#E5ECF6",
            "gridcolor": "white",
            "gridwidth": 2,
            "linecolor": "white",
            "showbackground": true,
            "ticks": "",
            "zerolinecolor": "white"
           },
           "yaxis": {
            "backgroundcolor": "#E5ECF6",
            "gridcolor": "white",
            "gridwidth": 2,
            "linecolor": "white",
            "showbackground": true,
            "ticks": "",
            "zerolinecolor": "white"
           },
           "zaxis": {
            "backgroundcolor": "#E5ECF6",
            "gridcolor": "white",
            "gridwidth": 2,
            "linecolor": "white",
            "showbackground": true,
            "ticks": "",
            "zerolinecolor": "white"
           }
          },
          "shapedefaults": {
           "line": {
            "color": "#2a3f5f"
           }
          },
          "ternary": {
           "aaxis": {
            "gridcolor": "white",
            "linecolor": "white",
            "ticks": ""
           },
           "baxis": {
            "gridcolor": "white",
            "linecolor": "white",
            "ticks": ""
           },
           "bgcolor": "#E5ECF6",
           "caxis": {
            "gridcolor": "white",
            "linecolor": "white",
            "ticks": ""
           }
          },
          "title": {
           "x": 0.05
          },
          "xaxis": {
           "automargin": true,
           "gridcolor": "white",
           "linecolor": "white",
           "ticks": "",
           "title": {
            "standoff": 15
           },
           "zerolinecolor": "white",
           "zerolinewidth": 2
          },
          "yaxis": {
           "automargin": true,
           "gridcolor": "white",
           "linecolor": "white",
           "ticks": "",
           "title": {
            "standoff": 15
           },
           "zerolinecolor": "white",
           "zerolinewidth": 2
          }
         }
        },
        "title": {
         "text": "Model Comparison for Classification Metrics"
        },
        "uniformtext": {
         "minsize": 8
        },
        "xaxis": {
         "anchor": "y",
         "domain": [
          0,
          1
         ],
         "title": {
          "text": "Result Type"
         }
        },
        "yaxis": {
         "anchor": "x",
         "domain": [
          0,
          1
         ],
         "title": {
          "text": "Metric Value"
         }
        }
       }
      }
     },
     "metadata": {},
     "output_type": "display_data"
    }
   ],
   "source": [
    "import pandas as pd\n",
    "import plotly.express as px\n",
    "\n",
    "# Define the data\n",
    "data = {\n",
    "    'preprocess_results': {\n",
    "        'Accuracy': 0.7745,\n",
    "        'AUC': 0.8246,\n",
    "        'Recall': 0.5498,\n",
    "        'Prec': 0.7433,\n",
    "        'F1': 0.6279\n",
    "    },\n",
    "    'test_result': {\n",
    "        'Accuracy': 0.7773,\n",
    "        'AUC': 0.7328,\n",
    "        'Recall': 0.5844,\n",
    "        'Prec': 0.7258,\n",
    "        'F1': 0.6475\n",
    "    },\n",
    "    'hyperpar_test_result': {\n",
    "        'Accuracy': 0.7725,\n",
    "        'AUC': 0.8257,\n",
    "        'Recall': 0.55,\n",
    "        'Prec': 0.7372,\n",
    "        'F1': 0.6267\n",
    "    },\n",
    "    'eval_result': {\n",
    "        'Accuracy': 0.7895,\n",
    "        'AUC': 0.6923,\n",
    "        'Recall': 0.3846,\n",
    "        'Prec': 1.0,\n",
    "        'F1': 0.5556\n",
    "    }\n",
    "}\n",
    "\n",
    "# Create a DataFrame; the dictionary keys become column names and the inner keys become the index.\n",
    "df = pd.DataFrame(data)\n",
    "df.index.name = 'metric'\n",
    "df = df.rename(columns={\n",
    "    'preprocess_results': 'Preprocess',\n",
    "    'test_result': 'Test',\n",
    "    'hyperpar_test_result': 'Hyperparameter Test',\n",
    "    'eval_result': 'Evaluation'\n",
    "})\n",
    "# Reset the index so that 'metric' becomes a column\n",
    "df = df.reset_index()\n",
    "\n",
    "# Melt the DataFrame to a long format\n",
    "df_long = df.melt(id_vars='metric', var_name='model', value_name='value')\n",
    "\n",
    "# Create a grouped bar chart using Plotly Express\n",
    "fig = px.bar(df_long,\n",
    "             x='model',\n",
    "             y='value',\n",
    "             color='metric',\n",
    "             barmode='group',\n",
    "             title='Model Comparison for Classification Metrics',\n",
    "             text='value')\n",
    "\n",
    "# Format the text on bars\n",
    "fig.update_traces(texttemplate='%{text:.4f}', textposition='outside')\n",
    "fig.update_layout(xaxis_title='Result Type', yaxis_title='Metric Value', uniformtext_minsize=8)\n",
    "\n",
    "fig.show()\n"
   ]
  },
  {
   "cell_type": "code",
   "execution_count": null,
   "metadata": {},
   "outputs": [
    {
     "data": {
      "text/html": [
       "<div>\n",
       "<style scoped>\n",
       "    .dataframe tbody tr th:only-of-type {\n",
       "        vertical-align: middle;\n",
       "    }\n",
       "\n",
       "    .dataframe tbody tr th {\n",
       "        vertical-align: top;\n",
       "    }\n",
       "\n",
       "    .dataframe thead th {\n",
       "        text-align: right;\n",
       "    }\n",
       "</style>\n",
       "<table border=\"1\" class=\"dataframe\">\n",
       "  <thead>\n",
       "    <tr style=\"text-align: right;\">\n",
       "      <th></th>\n",
       "      <th>preprocess_results</th>\n",
       "      <th>test_result</th>\n",
       "      <th>hyperpar_test_result</th>\n",
       "      <th>eval_result</th>\n",
       "    </tr>\n",
       "  </thead>\n",
       "  <tbody>\n",
       "    <tr>\n",
       "      <th>0</th>\n",
       "      <td>{'Accuracy': 0.7745, 'AUC': 0.8246, 'Recall': ...</td>\n",
       "      <td>{'Accuracy': 0.7773, 'AUC': 0.7328, 'Recall': ...</td>\n",
       "      <td>{'Accuracy': 0.7725, 'AUC': 0.8257, 'Recall': ...</td>\n",
       "      <td>{'Accuracy': 0.7895, 'AUC': 0.6923, 'Recall': ...</td>\n",
       "    </tr>\n",
       "  </tbody>\n",
       "</table>\n",
       "</div>"
      ],
      "text/plain": [
       "                                  preprocess_results  \\\n",
       "0  {'Accuracy': 0.7745, 'AUC': 0.8246, 'Recall': ...   \n",
       "\n",
       "                                         test_result  \\\n",
       "0  {'Accuracy': 0.7773, 'AUC': 0.7328, 'Recall': ...   \n",
       "\n",
       "                                hyperpar_test_result  \\\n",
       "0  {'Accuracy': 0.7725, 'AUC': 0.8257, 'Recall': ...   \n",
       "\n",
       "                                         eval_result  \n",
       "0  {'Accuracy': 0.7895, 'AUC': 0.6923, 'Recall': ...  "
      ]
     },
     "execution_count": 4,
     "metadata": {},
     "output_type": "execute_result"
    }
   ],
   "source": [
    "df"
   ]
  }
 ],
 "metadata": {
  "kernelspec": {
   "display_name": "project_ml_builder",
   "language": "python",
   "name": "python3"
  },
  "language_info": {
   "codemirror_mode": {
    "name": "ipython",
    "version": 3
   },
   "file_extension": ".py",
   "mimetype": "text/x-python",
   "name": "python",
   "nbconvert_exporter": "python",
   "pygments_lexer": "ipython3",
   "version": "3.11.11"
  }
 },
 "nbformat": 4,
 "nbformat_minor": 2
}
